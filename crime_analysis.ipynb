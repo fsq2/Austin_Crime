{
 "cells": [
  {
   "cell_type": "code",
   "execution_count": 2,
   "metadata": {},
   "outputs": [],
   "source": [
    "import pandas as pd \n",
    "import numpy as np \n",
    "import matplotlib.pyplot as plt \n",
    "import seaborn as sns \n",
    "pd.set_option('display.max_columns', None)\n",
    "pd.set_option('display.max_rows', None)\n",
    "\n",
    "\n",
    "%matplotlib inline"
   ]
  },
  {
   "cell_type": "code",
   "execution_count": 5,
   "metadata": {},
   "outputs": [],
   "source": [
    "def get_dataset(data, limit=200000):\n",
    "            '''\n",
    "            this function calls Socrata api to retrive the data \n",
    "\n",
    "            data  : csv dataset for austin crime data from 2015 to 2018 \n",
    "            limit : limit of rows \n",
    "            '''\n",
    "            from sodapy import Socrata\n",
    "\n",
    "            client = Socrata(\"data.austintexas.gov\", None)\n",
    "\n",
    "\n",
    "            results = client.get(data, limit=200000)\n",
    "\n",
    "            # Convert to pandas DataFrame\n",
    "            results_df = pd.DataFrame.from_records(results)\n",
    "            results_df.to_csv(f\"{data}.csv\")"
   ]
  },
  {
   "cell_type": "markdown",
   "metadata": {},
   "source": [
    "```python\n",
    "get data  2015 to 2018 \n",
    "```"
   ]
  },
  {
   "cell_type": "markdown",
   "metadata": {},
   "source": [
    "```python\n",
    "get_dataset(\"spbg-9v94\") # 2015 \n",
    "\n",
    "get_dataset(\"8iue-zpf6\") # 2016 \n",
    "\n",
    "get_dataset(\"3t4q-mqs5\") # 2017 \n",
    "\n",
    "get_dataset(\"pgvh-cpyq\") # 2018 \n",
    "```"
   ]
  },
  {
   "cell_type": "code",
   "execution_count": 14,
   "metadata": {},
   "outputs": [],
   "source": [
    "df_2015 = pd.read_csv(\"data/2015.csv\")\n",
    "df_2016 = pd.read_csv(\"data/2016.csv\")\n",
    "df_2017 = pd.read_csv(\"data/2017.csv\")\n",
    "df_2018 = pd.read_csv(\"data/2018.csv\")"
   ]
  },
  {
   "cell_type": "code",
   "execution_count": 15,
   "metadata": {},
   "outputs": [
    {
     "output_type": "stream",
     "name": "stdout",
     "text": [
      "<class 'pandas.core.frame.DataFrame'>\nRangeIndex: 38573 entries, 0 to 38572\nData columns (total 14 columns):\n #   Column                                 Non-Null Count  Dtype  \n---  ------                                 --------------  -----  \n 0   Unnamed: 0                             38573 non-null  int64  \n 1   go_primary_key                         38573 non-null  int64  \n 2   council_district                       38401 non-null  float64\n 3   go_highest_offense_desc                38573 non-null  object \n 4   highest_nibrs_ucr_offense_description  38573 non-null  object \n 5   go_report_date                         38573 non-null  object \n 6   go_location                            38092 non-null  object \n 7   clearance_status                       36649 non-null  object \n 8   clearance_date                         36649 non-null  object \n 9   go_district                            38573 non-null  object \n 10  go_location_zip                        38414 non-null  float64\n 11  go_census_tract                        38414 non-null  float64\n 12  go_x_coordinate                        37981 non-null  float64\n 13  go_y_coordinate                        37981 non-null  float64\ndtypes: float64(5), int64(2), object(7)\nmemory usage: 4.1+ MB\n"
     ]
    }
   ],
   "source": [
    "df_2015.info()"
   ]
  },
  {
   "cell_type": "code",
   "execution_count": 16,
   "metadata": {},
   "outputs": [
    {
     "output_type": "stream",
     "name": "stdout",
     "text": [
      "<class 'pandas.core.frame.DataFrame'>\nRangeIndex: 37461 entries, 0 to 37460\nData columns (total 14 columns):\n #   Column                                 Non-Null Count  Dtype  \n---  ------                                 --------------  -----  \n 0   Unnamed: 0                             37461 non-null  int64  \n 1   go_primary_key                         37460 non-null  float64\n 2   council_district                       37205 non-null  float64\n 3   go_highest_offense_desc                37461 non-null  object \n 4   highest_nibrs_ucr_offense_description  37461 non-null  object \n 5   go_report_date                         37461 non-null  object \n 6   go_location                            36702 non-null  object \n 7   clearance_status                       35742 non-null  object \n 8   clearance_date                         35742 non-null  object \n 9   go_district                            37461 non-null  object \n 10  go_location_zip                        37294 non-null  float64\n 11  go_census_tract                        37294 non-null  float64\n 12  go_x_coordinate                        36594 non-null  float64\n 13  go_y_coordinate                        36594 non-null  float64\ndtypes: float64(6), int64(1), object(7)\nmemory usage: 4.0+ MB\n"
     ]
    }
   ],
   "source": [
    "df_2016.info()"
   ]
  },
  {
   "cell_type": "code",
   "execution_count": 17,
   "metadata": {},
   "outputs": [
    {
     "output_type": "stream",
     "name": "stdout",
     "text": [
      "<class 'pandas.core.frame.DataFrame'>\nRangeIndex: 35097 entries, 0 to 35096\nData columns (total 14 columns):\n #   Column                                 Non-Null Count  Dtype  \n---  ------                                 --------------  -----  \n 0   Unnamed: 0                             35097 non-null  int64  \n 1   go_primary_key                         35095 non-null  float64\n 2   council_district                       34844 non-null  float64\n 3   go_highest_offense_desc                35097 non-null  object \n 4   highest_nibrs_ucr_offense_description  35097 non-null  object \n 5   go_report_date                         35097 non-null  object \n 6   go_location                            34286 non-null  object \n 7   clearance_status                       32667 non-null  object \n 8   clearance_date                         32665 non-null  object \n 9   go_district                            35097 non-null  object \n 10  go_location_zip                        34982 non-null  float64\n 11  go_census_tract                        34982 non-null  float64\n 12  go_x_coordinate                        34231 non-null  float64\n 13  go_y_coordinate                        34231 non-null  float64\ndtypes: float64(6), int64(1), object(7)\nmemory usage: 3.7+ MB\n"
     ]
    }
   ],
   "source": [
    "df_2017.info()"
   ]
  },
  {
   "cell_type": "code",
   "execution_count": 18,
   "metadata": {},
   "outputs": [
    {
     "output_type": "stream",
     "name": "stdout",
     "text": [
      "<class 'pandas.core.frame.DataFrame'>\nRangeIndex: 37156 entries, 0 to 37155\nData columns (total 14 columns):\n #   Column                    Non-Null Count  Dtype  \n---  ------                    --------------  -----  \n 0   Unnamed: 0                37156 non-null  int64  \n 1   go_primary_key_year_plus  37156 non-null  int64  \n 2   council_district          36895 non-null  float64\n 3   go_highest_offense_desc   37156 non-null  object \n 4   crime_type                37156 non-null  object \n 5   go_report_date            37156 non-null  object \n 6   go_location               36352 non-null  object \n 7   go_x_coordinate           36271 non-null  float64\n 8   go_y_coordinate           36271 non-null  float64\n 9   clearance_status          35702 non-null  object \n 10  clearance_date            35702 non-null  object \n 11  go_district               37156 non-null  object \n 12  go_location_zip           36989 non-null  float64\n 13  go_census_tract           36989 non-null  float64\ndtypes: float64(5), int64(2), object(7)\nmemory usage: 4.0+ MB\n"
     ]
    }
   ],
   "source": [
    "df_2018.info()"
   ]
  },
  {
   "cell_type": "code",
   "execution_count": 19,
   "metadata": {},
   "outputs": [],
   "source": [
    "# fixing columns names \n",
    "\n",
    "df_2015.drop(\"Unnamed: 0\", axis=1, inplace = True)\n",
    "df_2016.drop(\"Unnamed: 0\", axis=1, inplace = True)\n",
    "df_2017.drop(\"Unnamed: 0\", axis=1, inplace = True)\n",
    "df_2018.drop(\"Unnamed: 0\", axis=1, inplace = True)"
   ]
  },
  {
   "cell_type": "code",
   "execution_count": 20,
   "metadata": {},
   "outputs": [],
   "source": [
    "# let's check columns meaning "
   ]
  },
  {
   "cell_type": "code",
   "execution_count": 23,
   "metadata": {},
   "outputs": [],
   "source": [
    "guid = pd.read_csv(\"data/GUIDE_-_Annual_Crime.csv\")"
   ]
  },
  {
   "cell_type": "code",
   "execution_count": 24,
   "metadata": {},
   "outputs": [
    {
     "output_type": "execute_result",
     "data": {
      "text/plain": [
       "                                        Data purpose:  \\\n",
       "0   This Annual Crime dataset provides the raw dat...   \n",
       "1                                 Corresponding data:   \n",
       "2   This guide corresponds to the Annual Crime dat...   \n",
       "3   https://data.austintexas.gov/browse?Additional...   \n",
       "4   Note: The official crime counts used to produc...   \n",
       "5                               Corresponding report:   \n",
       "6   The Annual Crime and Traffic Report is posted ...   \n",
       "7   http://www.austintexas.gov/page/annual-crime-t...   \n",
       "8                                  Field definitions:   \n",
       "9   Below are the fields and definitions contained...   \n",
       "10                                         Field Name   \n",
       "11                                     GO Primary Key   \n",
       "12                                   Council District   \n",
       "13                            GO Highest Offense Desc   \n",
       "14              Highest NIBRS/UCR Offense Description   \n",
       "15                                     GO Report Date   \n",
       "16                                        GO Location   \n",
       "17                                   Clearance Status   \n",
       "18                                     Clearance Date   \n",
       "19                                        GO District   \n",
       "20                                    GO Location Zip   \n",
       "21                                    GO Census Tract   \n",
       "22                                    GO X Coordinate   \n",
       "23                                    GO Y Coordinate   \n",
       "24                                      Field lookups   \n",
       "25                                   Clearance Status   \n",
       "26                                                  C   \n",
       "27                                                  O   \n",
       "28                                                  N   \n",
       "29                                        GO District   \n",
       "30                                                  A   \n",
       "31                                                 AP   \n",
       "32                                                  B   \n",
       "33                                                  C   \n",
       "34                                                  D   \n",
       "35                                                  E   \n",
       "36                                                  F   \n",
       "37                                                  G   \n",
       "38                                                  H   \n",
       "39                                                  I   \n",
       "40                                                 UK   \n",
       "\n",
       "                                               (none)  \n",
       "0                                                 NaN  \n",
       "1                                                 NaN  \n",
       "2                                                 NaN  \n",
       "3                                                 NaN  \n",
       "4                                                 NaN  \n",
       "5                                                 NaN  \n",
       "6                                                 NaN  \n",
       "7                                                 NaN  \n",
       "8                                                 NaN  \n",
       "9                                                 NaN  \n",
       "10                                         Definition  \n",
       "11                                        Case number  \n",
       "12  Austin city council district where the inciden...  \n",
       "13                                The crime committed  \n",
       "14           The FBI category for the crime committed  \n",
       "15                     Date the incident was reported  \n",
       "16  Location of incident (rape locations are exclu...  \n",
       "17  Codes used to identify if a crime was solved (...  \n",
       "18                          Date the crime was solved  \n",
       "19  APD Sector where the incident occurred (see lo...  \n",
       "20                                  Incident zip code  \n",
       "21                              Incident census tract  \n",
       "22  Incident location using projection NAD 1983 St...  \n",
       "23                                                NaN  \n",
       "24                                                NaN  \n",
       "25                                                NaN  \n",
       "26                                  Cleared by Arrest  \n",
       "27                               Cleared by Exception  \n",
       "28                                        Not cleared  \n",
       "29                                                NaN  \n",
       "30                                               Adam  \n",
       "31                                            Airport  \n",
       "32                                              Baker  \n",
       "33                                            Charlie  \n",
       "34                                              David  \n",
       "35                                             Edward  \n",
       "36                                              Frank  \n",
       "37                                             George  \n",
       "38                                              Henry  \n",
       "39                                                Ida  \n",
       "40                                            Unknown  "
      ],
      "text/html": "<div>\n<style scoped>\n    .dataframe tbody tr th:only-of-type {\n        vertical-align: middle;\n    }\n\n    .dataframe tbody tr th {\n        vertical-align: top;\n    }\n\n    .dataframe thead th {\n        text-align: right;\n    }\n</style>\n<table border=\"1\" class=\"dataframe\">\n  <thead>\n    <tr style=\"text-align: right;\">\n      <th></th>\n      <th>Data purpose:</th>\n      <th>(none)</th>\n    </tr>\n  </thead>\n  <tbody>\n    <tr>\n      <th>0</th>\n      <td>This Annual Crime dataset provides the raw dat...</td>\n      <td>NaN</td>\n    </tr>\n    <tr>\n      <th>1</th>\n      <td>Corresponding data:</td>\n      <td>NaN</td>\n    </tr>\n    <tr>\n      <th>2</th>\n      <td>This guide corresponds to the Annual Crime dat...</td>\n      <td>NaN</td>\n    </tr>\n    <tr>\n      <th>3</th>\n      <td>https://data.austintexas.gov/browse?Additional...</td>\n      <td>NaN</td>\n    </tr>\n    <tr>\n      <th>4</th>\n      <td>Note: The official crime counts used to produc...</td>\n      <td>NaN</td>\n    </tr>\n    <tr>\n      <th>5</th>\n      <td>Corresponding report:</td>\n      <td>NaN</td>\n    </tr>\n    <tr>\n      <th>6</th>\n      <td>The Annual Crime and Traffic Report is posted ...</td>\n      <td>NaN</td>\n    </tr>\n    <tr>\n      <th>7</th>\n      <td>http://www.austintexas.gov/page/annual-crime-t...</td>\n      <td>NaN</td>\n    </tr>\n    <tr>\n      <th>8</th>\n      <td>Field definitions:</td>\n      <td>NaN</td>\n    </tr>\n    <tr>\n      <th>9</th>\n      <td>Below are the fields and definitions contained...</td>\n      <td>NaN</td>\n    </tr>\n    <tr>\n      <th>10</th>\n      <td>Field Name</td>\n      <td>Definition</td>\n    </tr>\n    <tr>\n      <th>11</th>\n      <td>GO Primary Key</td>\n      <td>Case number</td>\n    </tr>\n    <tr>\n      <th>12</th>\n      <td>Council District</td>\n      <td>Austin city council district where the inciden...</td>\n    </tr>\n    <tr>\n      <th>13</th>\n      <td>GO Highest Offense Desc</td>\n      <td>The crime committed</td>\n    </tr>\n    <tr>\n      <th>14</th>\n      <td>Highest NIBRS/UCR Offense Description</td>\n      <td>The FBI category for the crime committed</td>\n    </tr>\n    <tr>\n      <th>15</th>\n      <td>GO Report Date</td>\n      <td>Date the incident was reported</td>\n    </tr>\n    <tr>\n      <th>16</th>\n      <td>GO Location</td>\n      <td>Location of incident (rape locations are exclu...</td>\n    </tr>\n    <tr>\n      <th>17</th>\n      <td>Clearance Status</td>\n      <td>Codes used to identify if a crime was solved (...</td>\n    </tr>\n    <tr>\n      <th>18</th>\n      <td>Clearance Date</td>\n      <td>Date the crime was solved</td>\n    </tr>\n    <tr>\n      <th>19</th>\n      <td>GO District</td>\n      <td>APD Sector where the incident occurred (see lo...</td>\n    </tr>\n    <tr>\n      <th>20</th>\n      <td>GO Location Zip</td>\n      <td>Incident zip code</td>\n    </tr>\n    <tr>\n      <th>21</th>\n      <td>GO Census Tract</td>\n      <td>Incident census tract</td>\n    </tr>\n    <tr>\n      <th>22</th>\n      <td>GO X Coordinate</td>\n      <td>Incident location using projection NAD 1983 St...</td>\n    </tr>\n    <tr>\n      <th>23</th>\n      <td>GO Y Coordinate</td>\n      <td>NaN</td>\n    </tr>\n    <tr>\n      <th>24</th>\n      <td>Field lookups</td>\n      <td>NaN</td>\n    </tr>\n    <tr>\n      <th>25</th>\n      <td>Clearance Status</td>\n      <td>NaN</td>\n    </tr>\n    <tr>\n      <th>26</th>\n      <td>C</td>\n      <td>Cleared by Arrest</td>\n    </tr>\n    <tr>\n      <th>27</th>\n      <td>O</td>\n      <td>Cleared by Exception</td>\n    </tr>\n    <tr>\n      <th>28</th>\n      <td>N</td>\n      <td>Not cleared</td>\n    </tr>\n    <tr>\n      <th>29</th>\n      <td>GO District</td>\n      <td>NaN</td>\n    </tr>\n    <tr>\n      <th>30</th>\n      <td>A</td>\n      <td>Adam</td>\n    </tr>\n    <tr>\n      <th>31</th>\n      <td>AP</td>\n      <td>Airport</td>\n    </tr>\n    <tr>\n      <th>32</th>\n      <td>B</td>\n      <td>Baker</td>\n    </tr>\n    <tr>\n      <th>33</th>\n      <td>C</td>\n      <td>Charlie</td>\n    </tr>\n    <tr>\n      <th>34</th>\n      <td>D</td>\n      <td>David</td>\n    </tr>\n    <tr>\n      <th>35</th>\n      <td>E</td>\n      <td>Edward</td>\n    </tr>\n    <tr>\n      <th>36</th>\n      <td>F</td>\n      <td>Frank</td>\n    </tr>\n    <tr>\n      <th>37</th>\n      <td>G</td>\n      <td>George</td>\n    </tr>\n    <tr>\n      <th>38</th>\n      <td>H</td>\n      <td>Henry</td>\n    </tr>\n    <tr>\n      <th>39</th>\n      <td>I</td>\n      <td>Ida</td>\n    </tr>\n    <tr>\n      <th>40</th>\n      <td>UK</td>\n      <td>Unknown</td>\n    </tr>\n  </tbody>\n</table>\n</div>"
     },
     "metadata": {},
     "execution_count": 24
    }
   ],
   "source": [
    "guid"
   ]
  },
  {
   "cell_type": "markdown",
   "metadata": {},
   "source": [
    "### Field Name\tDefinition\n",
    "- GO Primary Key\tCase number => case_number  should be object \n",
    "- Council District\tAustin city council district where the incident occurred\n",
    "- GO Highest Offense Desc\tThe crime committed => crime describtion \n",
    "- Highest NIBRS/UCR Offense Description\tThe FBI category for the crime committed => crime type \n",
    "- GO Report Date\tDate the incident was reported\n",
    "- GO Location\tLocation of incident (rape locations are excluded to protect victims)\n",
    "- Clearance Status\tCodes used to identify if a crime was solved (see lookup table below)\n",
    "- Clearance Date\tDate the crime was solved\n",
    "- GO District\tAPD Sector where the incident occurred (see lookup table below)\n",
    "- GO Location Zip\tIncident zip code\n",
    "- GO Census Tract\tIncident census tract\n",
    "- GO X Coordinate\tIncident location using projection NAD 1983 State Plane Texas Central FIPS 4203 (US Feet)\n",
    "- GO Y Coordinate\n",
    "\n",
    "- lookup table \n",
    "- Clearance Status\t\n",
    "  C \t Cleared by Arrest\n",
    "  O\t     Cleared by Exception\n",
    "  N\t     Not cleared\n",
    "- GO District\t\n",
    "  A\t    Adam\n",
    "  AP    Airport\n",
    "  B\t    Baker\n",
    "  C\t    Charlie\n",
    "  D\t    David\n",
    "  E\t    Edward\n",
    "  F\t    Frank\n",
    "  G\t    George\n",
    "  H\t    Henry\n",
    "  I\t    Ida\n",
    "  UK    Unknown\n",
    "      "
   ]
  },
  {
   "cell_type": "code",
   "execution_count": 25,
   "metadata": {},
   "outputs": [],
   "source": [
    "def change_col_name(df, column, new_name):\n",
    "    \n",
    "    df.rename(columns={column : new_name}, inplace=True)\n",
    "    \n"
   ]
  },
  {
   "cell_type": "code",
   "execution_count": 26,
   "metadata": {},
   "outputs": [],
   "source": [
    "change_col_name(df_2015, \"go_primary_key\", \"case_number\")\n",
    "change_col_name(df_2016, \"go_primary_key\", \"case_number\")\n",
    "change_col_name(df_2017, \"go_primary_key\", \"case_number\")\n",
    "change_col_name(df_2018, \"go_primary_key_year_plus\", \"case_number\")"
   ]
  },
  {
   "cell_type": "code",
   "execution_count": 27,
   "metadata": {},
   "outputs": [],
   "source": [
    "change_col_name(df_2018, \"go_highest_offense_desc\", \"crime_desc\")\n",
    "change_col_name(df_2017, \"go_highest_offense_desc\", \"crime_desc\")\n",
    "change_col_name(df_2016, \"go_highest_offense_desc\", \"crime_desc\")\n",
    "change_col_name(df_2015, \"go_highest_offense_desc\", \"crime_desc\")\n",
    "\n",
    "change_col_name(df_2017, \"highest_nibrs_ucr_offense_description\", \"crime_type\")\n",
    "change_col_name(df_2016, \"highest_nibrs_ucr_offense_description\", \"crime_type\")\n",
    "change_col_name(df_2015, \"highest_nibrs_ucr_offense_description\", \"crime_type\")"
   ]
  },
  {
   "cell_type": "code",
   "execution_count": 28,
   "metadata": {},
   "outputs": [],
   "source": [
    "# fix column order so they all match \n",
    "df_2018 = df_2018[['case_number',\n",
    " 'council_district',\n",
    " 'crime_desc',\n",
    " 'crime_type',\n",
    " 'go_report_date',\n",
    " 'go_location',\n",
    " 'clearance_status',\n",
    " 'clearance_date',\n",
    " 'go_district',\n",
    " 'go_location_zip',\n",
    " 'go_census_tract',\n",
    " 'go_x_coordinate',\n",
    " 'go_y_coordinate']]"
   ]
  },
  {
   "cell_type": "code",
   "execution_count": 29,
   "metadata": {},
   "outputs": [],
   "source": [
    "# concat the data \n",
    "df = pd.concat([df_2018, df_2017, df_2016, df_2015], axis = 0)"
   ]
  },
  {
   "cell_type": "code",
   "execution_count": 30,
   "metadata": {},
   "outputs": [
    {
     "output_type": "execute_result",
     "data": {
      "text/plain": [
       "clearance_date      7529\n",
       "clearance_status    7527\n",
       "go_y_coordinate     3210\n",
       "go_x_coordinate     3210\n",
       "go_location         2855\n",
       "council_district     942\n",
       "go_census_tract      608\n",
       "go_location_zip      608\n",
       "case_number            3\n",
       "go_district            0\n",
       "go_report_date         0\n",
       "crime_type             0\n",
       "crime_desc             0\n",
       "dtype: int64"
      ]
     },
     "metadata": {},
     "execution_count": 30
    }
   ],
   "source": [
    "df.isnull().sum().sort_values(ascending = False)"
   ]
  },
  {
   "cell_type": "code",
   "execution_count": 31,
   "metadata": {},
   "outputs": [
    {
     "output_type": "stream",
     "name": "stdout",
     "text": [
      "<class 'pandas.core.frame.DataFrame'>\nInt64Index: 148287 entries, 0 to 38572\nData columns (total 13 columns):\n #   Column            Non-Null Count   Dtype  \n---  ------            --------------   -----  \n 0   case_number       148284 non-null  float64\n 1   council_district  147345 non-null  float64\n 2   crime_desc        148287 non-null  object \n 3   crime_type        148287 non-null  object \n 4   go_report_date    148287 non-null  object \n 5   go_location       145432 non-null  object \n 6   clearance_status  140760 non-null  object \n 7   clearance_date    140758 non-null  object \n 8   go_district       148287 non-null  object \n 9   go_location_zip   147679 non-null  float64\n 10  go_census_tract   147679 non-null  float64\n 11  go_x_coordinate   145077 non-null  float64\n 12  go_y_coordinate   145077 non-null  float64\ndtypes: float64(6), object(7)\nmemory usage: 15.8+ MB\n"
     ]
    }
   ],
   "source": [
    "df.info()"
   ]
  },
  {
   "cell_type": "code",
   "execution_count": 32,
   "metadata": {},
   "outputs": [],
   "source": [
    "# fix date columns \n",
    "df.go_report_date =  pd.to_datetime(df.go_report_date)\n",
    "df.clearance_date =  pd.to_datetime(df.clearance_date)"
   ]
  },
  {
   "cell_type": "code",
   "execution_count": 33,
   "metadata": {},
   "outputs": [
    {
     "output_type": "stream",
     "name": "stdout",
     "text": [
      "<class 'pandas.core.frame.DataFrame'>\nInt64Index: 148287 entries, 0 to 38572\nData columns (total 13 columns):\n #   Column            Non-Null Count   Dtype         \n---  ------            --------------   -----         \n 0   case_number       148284 non-null  float64       \n 1   council_district  147345 non-null  float64       \n 2   crime_desc        148287 non-null  object        \n 3   crime_type        148287 non-null  object        \n 4   go_report_date    148287 non-null  datetime64[ns]\n 5   go_location       145432 non-null  object        \n 6   clearance_status  140760 non-null  object        \n 7   clearance_date    140758 non-null  datetime64[ns]\n 8   go_district       148287 non-null  object        \n 9   go_location_zip   147679 non-null  float64       \n 10  go_census_tract   147679 non-null  float64       \n 11  go_x_coordinate   145077 non-null  float64       \n 12  go_y_coordinate   145077 non-null  float64       \ndtypes: datetime64[ns](2), float64(6), object(5)\nmemory usage: 15.8+ MB\n"
     ]
    }
   ],
   "source": [
    "df.info()"
   ]
  },
  {
   "cell_type": "code",
   "execution_count": 34,
   "metadata": {},
   "outputs": [],
   "source": [
    "# df[[\"council_district\", \"go_district\"]]"
   ]
  },
  {
   "cell_type": "code",
   "execution_count": 35,
   "metadata": {},
   "outputs": [],
   "source": [
    "df[\"report_year\"] = df.go_report_date.dt.year \n",
    "df[\"report_month\"] = df.go_report_date.dt.month_name() \n",
    "df[\"report_day\"] = df.go_report_date.dt.day_name() \n"
   ]
  },
  {
   "cell_type": "code",
   "execution_count": 36,
   "metadata": {},
   "outputs": [],
   "source": [
    "# drop uncessry columns \n",
    "df.drop(\"case_number\", axis=1, inplace=True)\n",
    "df.drop(\"go_census_tract\", axis=1, inplace=True)\n",
    "df.drop(\"go_x_coordinate\", axis= 1, inplace=True)\n",
    "df.drop(\"go_y_coordinate\", axis= 1, inplace=True)"
   ]
  },
  {
   "cell_type": "code",
   "execution_count": 37,
   "metadata": {},
   "outputs": [
    {
     "output_type": "execute_result",
     "data": {
      "text/plain": [
       "council_district     942\n",
       "crime_desc             0\n",
       "crime_type             0\n",
       "go_report_date         0\n",
       "go_location         2855\n",
       "clearance_status    7527\n",
       "clearance_date      7529\n",
       "go_district            0\n",
       "go_location_zip      608\n",
       "report_year            0\n",
       "report_month           0\n",
       "report_day             0\n",
       "dtype: int64"
      ]
     },
     "metadata": {},
     "execution_count": 37
    }
   ],
   "source": [
    "df.isnull().sum() "
   ]
  },
  {
   "cell_type": "code",
   "execution_count": 38,
   "metadata": {},
   "outputs": [],
   "source": [
    "# go_location => rape locations are excluded to protect victims \n",
    "df.go_location.fillna(\"Excluded\", inplace = True)"
   ]
  },
  {
   "cell_type": "code",
   "execution_count": 39,
   "metadata": {},
   "outputs": [],
   "source": [
    "# lets check null values in clearance_status & clearance_date \n",
    "\n",
    "# first lets convert clearance date into days, months and years \n",
    "df[\"clearance_year\"] = df.clearance_date.dt.year\n",
    "df[\"clearance_month\"] = df.clearance_date.dt.month_name()\n",
    "df[\"clearance_day\"] = df.clearance_date.dt.day_name()"
   ]
  },
  {
   "cell_type": "code",
   "execution_count": 40,
   "metadata": {},
   "outputs": [],
   "source": [
    "# let's impute the null values for both clearance date and status \n",
    "\n",
    "# i will make it uncleared cause it maybe never solved\n",
    "df.clearance_status.fillna(\"N\", inplace = True)\n",
    "df.clearance_date.fillna(\"Not cleared\", inplace = True)\n",
    "df.clearance_year.fillna(\"Not cleared\", inplace = True)\n",
    "df.clearance_month.fillna(\"Not cleared\", inplace = True)\n",
    "df.clearance_day.fillna(\"Not cleared\", inplace = True)"
   ]
  },
  {
   "cell_type": "markdown",
   "metadata": {},
   "source": [
    "<center><title> council district <title><center>\n",
    "<img src = \"Images/Screenshot 2021-05-09 234406.jpg\">"
   ]
  },
  {
   "cell_type": "markdown",
   "metadata": {},
   "source": [
    "<center><title> go district <title><center>\n",
    "<img src = \"Images/Screenshot 2021-05-10 021353.jpg\">"
   ]
  },
  {
   "source": [
    "<center><title> zip location <title><center>\n",
    "<img src = \"Images/Screenshot 2021-05-11 084116.jpg\">"
   ],
   "cell_type": "markdown",
   "metadata": {}
  },
  {
   "cell_type": "code",
   "execution_count": 41,
   "metadata": {},
   "outputs": [],
   "source": [
    "def fill_zipcode(location_name):\n",
    "    '''\n",
    "    this function return zip location if it's found \n",
    "    otherwise return Excluded for Excluded location or UNKNOWN for UNKNOWN locations in the dataset \n",
    "    '''\n",
    "\n",
    "    try:\n",
    "        if location_name ==  \"Excluded\":\n",
    "            return \"Excluded\"\n",
    "            \n",
    "        \n",
    "        elif location_name == \"UNKNOWN\":\n",
    "            return \"UNKNOWN\"\n",
    "        \n",
    "        else:\n",
    "            from geopy.geocoders import Nominatim\n",
    "            geolocator = Nominatim(user_agent=\"geoapiExercises\")\n",
    "            place = location_name\n",
    "            location = geolocator.geocode(\"%s, Austin\" % place, country_codes=\"US\")\n",
    "            # traverse the data\n",
    "            \n",
    "            data = location.raw\n",
    "            loc_data = data['display_name'].split()\n",
    "            return loc_data[-3].split(\",\")[0]\n",
    "            \n",
    "\n",
    "    except Exception as e:\n",
    "        print(e)"
   ]
  },
  {
   "cell_type": "code",
   "execution_count": 43,
   "metadata": {},
   "outputs": [],
   "source": [
    "# maps some zip code to districts \n",
    "district_to_zip = {\n",
    "    78746.0:\"WEST LAKE\",\n",
    "    78660.0:\"PFLUGERVILLE\",\n",
    "    78744.0: \"2\",\n",
    "    78653.0: \"MANOR\",\n",
    "    78735.0: \"8\",\n",
    "    78748.0: \"5\",\n",
    "    78724.0: \"1\",\n",
    "    78728.0: \"7\",\n",
    "    78729.0: \"6\",\n",
    "    78754.0: \"1\",\n",
    "    78664.0: \"Round Rock\",\n",
    "    78747.0: \"2\",\n",
    "    78617.0: \"2\",\n",
    "    78681.0: \"Round Rock\",\n",
    "    78732.0: \"6\",\n",
    "    78719.0: \"2\",\n",
    "    78749.0: \"8\",\n",
    "    78726.0: \"6\",\n",
    "    78734.0: \"Lakeway\",\n",
    "    78730.0: \"10\",\n",
    "    78652.0: \"Manchaca\",\n",
    "    78613.0: \"Cedar Park\",\n",
    "    78745.0: \"2\",\n",
    "    78717.0:\"6\",\n",
    "    78736.0: \"Austin Zoo\"\n",
    "}"
   ]
  },
  {
   "cell_type": "code",
   "execution_count": 44,
   "metadata": {
    "collapsed": true,
    "jupyter": {
     "outputs_hidden": true
    }
   },
   "outputs": [
    {
     "output_type": "stream",
     "name": "stdout",
     "text": [
      "'NoneType' object has no attribute 'raw'\n",
      "'NoneType' object has no attribute 'raw'\n",
      "'NoneType' object has no attribute 'raw'\n",
      "'NoneType' object has no attribute 'raw'\n",
      "'NoneType' object has no attribute 'raw'\n",
      "'NoneType' object has no attribute 'raw'\n",
      "'NoneType' object has no attribute 'raw'\n",
      "'NoneType' object has no attribute 'raw'\n",
      "'NoneType' object has no attribute 'raw'\n",
      "'NoneType' object has no attribute 'raw'\n",
      "'NoneType' object has no attribute 'raw'\n",
      "'NoneType' object has no attribute 'raw'\n",
      "'NoneType' object has no attribute 'raw'\n",
      "'NoneType' object has no attribute 'raw'\n",
      "'NoneType' object has no attribute 'raw'\n",
      "'NoneType' object has no attribute 'raw'\n",
      "'NoneType' object has no attribute 'raw'\n",
      "'NoneType' object has no attribute 'raw'\n",
      "'NoneType' object has no attribute 'raw'\n",
      "'NoneType' object has no attribute 'raw'\n",
      "'NoneType' object has no attribute 'raw'\n",
      "'NoneType' object has no attribute 'raw'\n",
      "'NoneType' object has no attribute 'raw'\n",
      "'NoneType' object has no attribute 'raw'\n",
      "'NoneType' object has no attribute 'raw'\n",
      "'NoneType' object has no attribute 'raw'\n",
      "'NoneType' object has no attribute 'raw'\n",
      "'NoneType' object has no attribute 'raw'\n",
      "'NoneType' object has no attribute 'raw'\n",
      "'NoneType' object has no attribute 'raw'\n",
      "'NoneType' object has no attribute 'raw'\n",
      "'NoneType' object has no attribute 'raw'\n",
      "'NoneType' object has no attribute 'raw'\n",
      "'NoneType' object has no attribute 'raw'\n",
      "'NoneType' object has no attribute 'raw'\n",
      "'NoneType' object has no attribute 'raw'\n",
      "'NoneType' object has no attribute 'raw'\n",
      "'NoneType' object has no attribute 'raw'\n",
      "'NoneType' object has no attribute 'raw'\n",
      "'NoneType' object has no attribute 'raw'\n",
      "'NoneType' object has no attribute 'raw'\n",
      "'NoneType' object has no attribute 'raw'\n",
      "'NoneType' object has no attribute 'raw'\n",
      "'NoneType' object has no attribute 'raw'\n",
      "'NoneType' object has no attribute 'raw'\n",
      "'NoneType' object has no attribute 'raw'\n",
      "'NoneType' object has no attribute 'raw'\n",
      "'NoneType' object has no attribute 'raw'\n",
      "'NoneType' object has no attribute 'raw'\n",
      "'NoneType' object has no attribute 'raw'\n",
      "'NoneType' object has no attribute 'raw'\n",
      "'NoneType' object has no attribute 'raw'\n",
      "'NoneType' object has no attribute 'raw'\n",
      "'NoneType' object has no attribute 'raw'\n",
      "'NoneType' object has no attribute 'raw'\n",
      "'NoneType' object has no attribute 'raw'\n",
      "'NoneType' object has no attribute 'raw'\n",
      "'NoneType' object has no attribute 'raw'\n",
      "'NoneType' object has no attribute 'raw'\n",
      "'NoneType' object has no attribute 'raw'\n",
      "'NoneType' object has no attribute 'raw'\n",
      "'NoneType' object has no attribute 'raw'\n",
      "'NoneType' object has no attribute 'raw'\n",
      "'NoneType' object has no attribute 'raw'\n",
      "'NoneType' object has no attribute 'raw'\n",
      "'NoneType' object has no attribute 'raw'\n",
      "'NoneType' object has no attribute 'raw'\n",
      "'NoneType' object has no attribute 'raw'\n",
      "'NoneType' object has no attribute 'raw'\n",
      "'NoneType' object has no attribute 'raw'\n",
      "'NoneType' object has no attribute 'raw'\n",
      "'NoneType' object has no attribute 'raw'\n",
      "'NoneType' object has no attribute 'raw'\n",
      "'NoneType' object has no attribute 'raw'\n",
      "'NoneType' object has no attribute 'raw'\n",
      "'NoneType' object has no attribute 'raw'\n",
      "'NoneType' object has no attribute 'raw'\n",
      "'NoneType' object has no attribute 'raw'\n",
      "'NoneType' object has no attribute 'raw'\n",
      "'NoneType' object has no attribute 'raw'\n",
      "'NoneType' object has no attribute 'raw'\n",
      "'NoneType' object has no attribute 'raw'\n",
      "'NoneType' object has no attribute 'raw'\n",
      "'NoneType' object has no attribute 'raw'\n",
      "'NoneType' object has no attribute 'raw'\n",
      "'NoneType' object has no attribute 'raw'\n",
      "'NoneType' object has no attribute 'raw'\n",
      "'NoneType' object has no attribute 'raw'\n",
      "'NoneType' object has no attribute 'raw'\n",
      "'NoneType' object has no attribute 'raw'\n",
      "'NoneType' object has no attribute 'raw'\n",
      "'NoneType' object has no attribute 'raw'\n",
      "'NoneType' object has no attribute 'raw'\n",
      "'NoneType' object has no attribute 'raw'\n",
      "'NoneType' object has no attribute 'raw'\n",
      "'NoneType' object has no attribute 'raw'\n",
      "'NoneType' object has no attribute 'raw'\n",
      "'NoneType' object has no attribute 'raw'\n",
      "'NoneType' object has no attribute 'raw'\n",
      "'NoneType' object has no attribute 'raw'\n",
      "'NoneType' object has no attribute 'raw'\n",
      "'NoneType' object has no attribute 'raw'\n",
      "'NoneType' object has no attribute 'raw'\n",
      "'NoneType' object has no attribute 'raw'\n",
      "'NoneType' object has no attribute 'raw'\n",
      "'NoneType' object has no attribute 'raw'\n",
      "'NoneType' object has no attribute 'raw'\n",
      "'NoneType' object has no attribute 'raw'\n",
      "'NoneType' object has no attribute 'raw'\n",
      "'NoneType' object has no attribute 'raw'\n",
      "'NoneType' object has no attribute 'raw'\n",
      "'NoneType' object has no attribute 'raw'\n",
      "'NoneType' object has no attribute 'raw'\n",
      "'NoneType' object has no attribute 'raw'\n",
      "'NoneType' object has no attribute 'raw'\n",
      "'NoneType' object has no attribute 'raw'\n",
      "'NoneType' object has no attribute 'raw'\n",
      "'NoneType' object has no attribute 'raw'\n",
      "'NoneType' object has no attribute 'raw'\n",
      "'NoneType' object has no attribute 'raw'\n",
      "'NoneType' object has no attribute 'raw'\n",
      "'NoneType' object has no attribute 'raw'\n",
      "'NoneType' object has no attribute 'raw'\n",
      "'NoneType' object has no attribute 'raw'\n",
      "'NoneType' object has no attribute 'raw'\n",
      "'NoneType' object has no attribute 'raw'\n",
      "'NoneType' object has no attribute 'raw'\n",
      "'NoneType' object has no attribute 'raw'\n",
      "'NoneType' object has no attribute 'raw'\n",
      "'NoneType' object has no attribute 'raw'\n",
      "'NoneType' object has no attribute 'raw'\n",
      "'NoneType' object has no attribute 'raw'\n",
      "'NoneType' object has no attribute 'raw'\n",
      "'NoneType' object has no attribute 'raw'\n",
      "'NoneType' object has no attribute 'raw'\n",
      "'NoneType' object has no attribute 'raw'\n",
      "'NoneType' object has no attribute 'raw'\n",
      "'NoneType' object has no attribute 'raw'\n",
      "'NoneType' object has no attribute 'raw'\n",
      "'NoneType' object has no attribute 'raw'\n",
      "'NoneType' object has no attribute 'raw'\n",
      "'NoneType' object has no attribute 'raw'\n",
      "'NoneType' object has no attribute 'raw'\n",
      "'NoneType' object has no attribute 'raw'\n",
      "'NoneType' object has no attribute 'raw'\n",
      "'NoneType' object has no attribute 'raw'\n",
      "'NoneType' object has no attribute 'raw'\n",
      "'NoneType' object has no attribute 'raw'\n",
      "'NoneType' object has no attribute 'raw'\n",
      "'NoneType' object has no attribute 'raw'\n",
      "'NoneType' object has no attribute 'raw'\n",
      "'NoneType' object has no attribute 'raw'\n",
      "'NoneType' object has no attribute 'raw'\n",
      "'NoneType' object has no attribute 'raw'\n",
      "'NoneType' object has no attribute 'raw'\n",
      "'NoneType' object has no attribute 'raw'\n",
      "'NoneType' object has no attribute 'raw'\n",
      "'NoneType' object has no attribute 'raw'\n",
      "'NoneType' object has no attribute 'raw'\n",
      "'NoneType' object has no attribute 'raw'\n",
      "'NoneType' object has no attribute 'raw'\n",
      "'NoneType' object has no attribute 'raw'\n",
      "'NoneType' object has no attribute 'raw'\n",
      "'NoneType' object has no attribute 'raw'\n",
      "'NoneType' object has no attribute 'raw'\n",
      "'NoneType' object has no attribute 'raw'\n",
      "'NoneType' object has no attribute 'raw'\n",
      "'NoneType' object has no attribute 'raw'\n",
      "'NoneType' object has no attribute 'raw'\n",
      "'NoneType' object has no attribute 'raw'\n",
      "'NoneType' object has no attribute 'raw'\n",
      "'NoneType' object has no attribute 'raw'\n",
      "'NoneType' object has no attribute 'raw'\n",
      "'NoneType' object has no attribute 'raw'\n",
      "'NoneType' object has no attribute 'raw'\n",
      "'NoneType' object has no attribute 'raw'\n",
      "'NoneType' object has no attribute 'raw'\n",
      "'NoneType' object has no attribute 'raw'\n",
      "'NoneType' object has no attribute 'raw'\n",
      "'NoneType' object has no attribute 'raw'\n",
      "'NoneType' object has no attribute 'raw'\n",
      "'NoneType' object has no attribute 'raw'\n",
      "'NoneType' object has no attribute 'raw'\n",
      "'NoneType' object has no attribute 'raw'\n",
      "'NoneType' object has no attribute 'raw'\n",
      "'NoneType' object has no attribute 'raw'\n",
      "'NoneType' object has no attribute 'raw'\n",
      "'NoneType' object has no attribute 'raw'\n",
      "'NoneType' object has no attribute 'raw'\n",
      "'NoneType' object has no attribute 'raw'\n",
      "'NoneType' object has no attribute 'raw'\n",
      "'NoneType' object has no attribute 'raw'\n",
      "'NoneType' object has no attribute 'raw'\n",
      "'NoneType' object has no attribute 'raw'\n",
      "'NoneType' object has no attribute 'raw'\n",
      "'NoneType' object has no attribute 'raw'\n",
      "'NoneType' object has no attribute 'raw'\n",
      "'NoneType' object has no attribute 'raw'\n",
      "'NoneType' object has no attribute 'raw'\n",
      "'NoneType' object has no attribute 'raw'\n",
      "'NoneType' object has no attribute 'raw'\n",
      "'NoneType' object has no attribute 'raw'\n",
      "'NoneType' object has no attribute 'raw'\n",
      "'NoneType' object has no attribute 'raw'\n",
      "'NoneType' object has no attribute 'raw'\n",
      "'NoneType' object has no attribute 'raw'\n",
      "'NoneType' object has no attribute 'raw'\n",
      "'NoneType' object has no attribute 'raw'\n",
      "'NoneType' object has no attribute 'raw'\n",
      "'NoneType' object has no attribute 'raw'\n",
      "'NoneType' object has no attribute 'raw'\n",
      "'NoneType' object has no attribute 'raw'\n",
      "'NoneType' object has no attribute 'raw'\n",
      "'NoneType' object has no attribute 'raw'\n",
      "'NoneType' object has no attribute 'raw'\n",
      "'NoneType' object has no attribute 'raw'\n",
      "'NoneType' object has no attribute 'raw'\n",
      "'NoneType' object has no attribute 'raw'\n",
      "'NoneType' object has no attribute 'raw'\n",
      "'NoneType' object has no attribute 'raw'\n",
      "'NoneType' object has no attribute 'raw'\n",
      "'NoneType' object has no attribute 'raw'\n",
      "'NoneType' object has no attribute 'raw'\n",
      "'NoneType' object has no attribute 'raw'\n",
      "'NoneType' object has no attribute 'raw'\n",
      "'NoneType' object has no attribute 'raw'\n",
      "'NoneType' object has no attribute 'raw'\n",
      "'NoneType' object has no attribute 'raw'\n"
     ]
    }
   ],
   "source": [
    "df[\"go_location_zip\"] = df.apply(lambda x: fill_zipcode(x[\"go_location\"]) if pd.isnull( x[\"go_location_zip\"]) else x['go_location_zip'], axis=1)\n"
   ]
  },
  {
   "cell_type": "code",
   "execution_count": 45,
   "metadata": {},
   "outputs": [],
   "source": [
    "df.loc[:, \"council_district\"] = df.apply(\n",
    "    lambda x: district_to_zip.get(x[\"go_location_zip\"], x[\"council_district\"]), axis=1\n",
    ")"
   ]
  },
  {
   "cell_type": "code",
   "execution_count": 46,
   "metadata": {},
   "outputs": [
    {
     "output_type": "execute_result",
     "data": {
      "text/plain": [
       "council_district    608\n",
       "crime_desc            0\n",
       "crime_type            0\n",
       "go_report_date        0\n",
       "go_location           0\n",
       "clearance_status      0\n",
       "clearance_date        0\n",
       "go_district           0\n",
       "go_location_zip     228\n",
       "report_year           0\n",
       "report_month          0\n",
       "report_day            0\n",
       "clearance_year        0\n",
       "clearance_month       0\n",
       "clearance_day         0\n",
       "dtype: int64"
      ]
     },
     "metadata": {},
     "execution_count": 46
    }
   ],
   "source": [
    "# let's impute the null values with unknown \n",
    "df.isnull().sum()"
   ]
  },
  {
   "cell_type": "code",
   "execution_count": 47,
   "metadata": {},
   "outputs": [],
   "source": [
    "df.council_district.fillna(\"UNKNOWN\", inplace = True)\n",
    "df.go_location_zip.fillna(\"UNKNOWN\", inplace = True)"
   ]
  },
  {
   "cell_type": "code",
   "execution_count": 48,
   "metadata": {},
   "outputs": [
    {
     "output_type": "execute_result",
     "data": {
      "text/plain": [
       "N    125685\n",
       "C     19622\n",
       "O      2980\n",
       "Name: clearance_status, dtype: int64"
      ]
     },
     "metadata": {},
     "execution_count": 48
    }
   ],
   "source": [
    "df.clearance_status.value_counts()"
   ]
  },
  {
   "cell_type": "code",
   "execution_count": 49,
   "metadata": {},
   "outputs": [],
   "source": [
    "# dealing with clearance_status, go_district\n",
    "dict_clearnce_status = {\n",
    "\"C\":\"Cleared by Arrest\",\n",
    "\"O\":\"Cleared by Exception\",\n",
    "\"N\":\"Not cleared\"\n",
    "}\n",
    "\n",
    "dict_go_district = {\"A\":\"Adam\",\n",
    "\"AP\":\"Airport\",\n",
    "\"B\":\"Baker\",\n",
    "\"C\":\"Charlie\",\n",
    "\"D\":\"David\",\n",
    "\"E\":\"Edward\",\n",
    "\"F\":\"Frank\",\n",
    "\"G\":\"George\",\n",
    "\"H\":\"Henry\",\n",
    "\"I\":\"Ida\",\n",
    "\"UK\":\"UNKNOWN\",\n",
    " \"88\": \"88\"}"
   ]
  },
  {
   "cell_type": "code",
   "execution_count": 50,
   "metadata": {},
   "outputs": [],
   "source": [
    "df.go_district = df.go_district.map(dict_go_district)\n",
    "df.clearance_status = df.clearance_status.map(dict_clearnce_status)"
   ]
  },
  {
   "cell_type": "code",
   "execution_count": 64,
   "metadata": {},
   "outputs": [],
   "source": [
    "# df.to_csv(\"data/clean_data.csv\")\n",
    "\n",
    "df = pd.read_csv(\"data/clean_data.csv\")"
   ]
  },
  {
   "cell_type": "code",
   "execution_count": 65,
   "metadata": {},
   "outputs": [
    {
     "output_type": "execute_result",
     "data": {
      "text/plain": [
       "   Unnamed: 0 council_district             crime_desc  crime_type  \\\n",
       "0           0              9.0             AUTO THEFT  Auto Theft   \n",
       "1           1              9.0   THEFT BY SHOPLIFTING       Theft   \n",
       "2           2             10.0    BURGLARY OF VEHICLE       Theft   \n",
       "3           3              4.0  BURGLARY OF RESIDENCE    Burglary   \n",
       "4           4              7.0    BURGLARY OF VEHICLE       Theft   \n",
       "\n",
       "  go_report_date               go_location clearance_status  \\\n",
       "0     2018-12-10           2902 HAMPTON RD      Not cleared   \n",
       "1     2018-10-16  1201 BARBARA JORDAN BLVD      Not cleared   \n",
       "2     2018-06-22     2600 LAKE AUSTIN BLVD      Not cleared   \n",
       "3     2018-07-05      5330 N IH 35 SVRD SB      Not cleared   \n",
       "4     2018-09-24       12802 POWDERHORN ST      Not cleared   \n",
       "\n",
       "        clearance_date go_district go_location_zip  report_year report_month  \\\n",
       "0  2018-12-19 00:00:00       Baker         78705.0         2018     December   \n",
       "1  2018-10-17 00:00:00       Baker         78723.0         2018      October   \n",
       "2  2018-06-27 00:00:00       Baker         78703.0         2018         June   \n",
       "3  2018-09-13 00:00:00         Ida         78751.0         2018         July   \n",
       "4  2018-09-24 00:00:00        Adam         78727.0         2018    September   \n",
       "\n",
       "  report_day clearance_year clearance_month clearance_day  \n",
       "0     Monday         2018.0        December     Wednesday  \n",
       "1    Tuesday         2018.0         October     Wednesday  \n",
       "2     Friday         2018.0            June     Wednesday  \n",
       "3   Thursday         2018.0       September      Thursday  \n",
       "4     Monday         2018.0       September        Monday  "
      ],
      "text/html": "<div>\n<style scoped>\n    .dataframe tbody tr th:only-of-type {\n        vertical-align: middle;\n    }\n\n    .dataframe tbody tr th {\n        vertical-align: top;\n    }\n\n    .dataframe thead th {\n        text-align: right;\n    }\n</style>\n<table border=\"1\" class=\"dataframe\">\n  <thead>\n    <tr style=\"text-align: right;\">\n      <th></th>\n      <th>Unnamed: 0</th>\n      <th>council_district</th>\n      <th>crime_desc</th>\n      <th>crime_type</th>\n      <th>go_report_date</th>\n      <th>go_location</th>\n      <th>clearance_status</th>\n      <th>clearance_date</th>\n      <th>go_district</th>\n      <th>go_location_zip</th>\n      <th>report_year</th>\n      <th>report_month</th>\n      <th>report_day</th>\n      <th>clearance_year</th>\n      <th>clearance_month</th>\n      <th>clearance_day</th>\n    </tr>\n  </thead>\n  <tbody>\n    <tr>\n      <th>0</th>\n      <td>0</td>\n      <td>9.0</td>\n      <td>AUTO THEFT</td>\n      <td>Auto Theft</td>\n      <td>2018-12-10</td>\n      <td>2902 HAMPTON RD</td>\n      <td>Not cleared</td>\n      <td>2018-12-19 00:00:00</td>\n      <td>Baker</td>\n      <td>78705.0</td>\n      <td>2018</td>\n      <td>December</td>\n      <td>Monday</td>\n      <td>2018.0</td>\n      <td>December</td>\n      <td>Wednesday</td>\n    </tr>\n    <tr>\n      <th>1</th>\n      <td>1</td>\n      <td>9.0</td>\n      <td>THEFT BY SHOPLIFTING</td>\n      <td>Theft</td>\n      <td>2018-10-16</td>\n      <td>1201 BARBARA JORDAN BLVD</td>\n      <td>Not cleared</td>\n      <td>2018-10-17 00:00:00</td>\n      <td>Baker</td>\n      <td>78723.0</td>\n      <td>2018</td>\n      <td>October</td>\n      <td>Tuesday</td>\n      <td>2018.0</td>\n      <td>October</td>\n      <td>Wednesday</td>\n    </tr>\n    <tr>\n      <th>2</th>\n      <td>2</td>\n      <td>10.0</td>\n      <td>BURGLARY OF VEHICLE</td>\n      <td>Theft</td>\n      <td>2018-06-22</td>\n      <td>2600 LAKE AUSTIN BLVD</td>\n      <td>Not cleared</td>\n      <td>2018-06-27 00:00:00</td>\n      <td>Baker</td>\n      <td>78703.0</td>\n      <td>2018</td>\n      <td>June</td>\n      <td>Friday</td>\n      <td>2018.0</td>\n      <td>June</td>\n      <td>Wednesday</td>\n    </tr>\n    <tr>\n      <th>3</th>\n      <td>3</td>\n      <td>4.0</td>\n      <td>BURGLARY OF RESIDENCE</td>\n      <td>Burglary</td>\n      <td>2018-07-05</td>\n      <td>5330 N IH 35 SVRD SB</td>\n      <td>Not cleared</td>\n      <td>2018-09-13 00:00:00</td>\n      <td>Ida</td>\n      <td>78751.0</td>\n      <td>2018</td>\n      <td>July</td>\n      <td>Thursday</td>\n      <td>2018.0</td>\n      <td>September</td>\n      <td>Thursday</td>\n    </tr>\n    <tr>\n      <th>4</th>\n      <td>4</td>\n      <td>7.0</td>\n      <td>BURGLARY OF VEHICLE</td>\n      <td>Theft</td>\n      <td>2018-09-24</td>\n      <td>12802 POWDERHORN ST</td>\n      <td>Not cleared</td>\n      <td>2018-09-24 00:00:00</td>\n      <td>Adam</td>\n      <td>78727.0</td>\n      <td>2018</td>\n      <td>September</td>\n      <td>Monday</td>\n      <td>2018.0</td>\n      <td>September</td>\n      <td>Monday</td>\n    </tr>\n  </tbody>\n</table>\n</div>"
     },
     "metadata": {},
     "execution_count": 65
    }
   ],
   "source": [
    "df.head()"
   ]
  },
  {
   "cell_type": "markdown",
   "metadata": {},
   "source": [
    "# 1 - what year have the highest crime rate \n"
   ]
  },
  {
   "cell_type": "code",
   "execution_count": 66,
   "metadata": {},
   "outputs": [],
   "source": [
    "crime_per_year = pd.crosstab(df.crime_type, df.report_year).mean()\n",
    "values = np.sort(crime_per_year.values)"
   ]
  },
  {
   "cell_type": "code",
   "execution_count": 67,
   "metadata": {},
   "outputs": [
    {
     "output_type": "display_data",
     "data": {
      "application/vnd.plotly.v1+json": {
       "config": {
        "plotlyServerURL": "https://plot.ly"
       },
       "data": [
        {
         "alignmentgroup": "True",
         "hovertemplate": "Year=%{x}<br>Crime Rate=%{y}<br>text=%{text}<extra></extra>",
         "legendgroup": "",
         "marker": {
          "color": "#00a2ed"
         },
         "name": "",
         "offsetgroup": "",
         "orientation": "v",
         "showlegend": false,
         "text": [
          5013.857142857143,
          5308,
          5351.571428571428,
          5510.428571428572
         ],
         "textposition": "inside",
         "texttemplate": "%{text:.2s}",
         "type": "bar",
         "x": [
          2015,
          2016,
          2017,
          2018
         ],
         "xaxis": "x",
         "y": [
          5013.857142857143,
          5308,
          5351.571428571428,
          5510.428571428572
         ],
         "yaxis": "y"
        }
       ],
       "layout": {
        "barmode": "relative",
        "legend": {
         "tracegroupgap": 0
        },
        "template": {
         "data": {
          "bar": [
           {
            "error_x": {
             "color": "#2a3f5f"
            },
            "error_y": {
             "color": "#2a3f5f"
            },
            "marker": {
             "line": {
              "color": "white",
              "width": 0.5
             }
            },
            "type": "bar"
           }
          ],
          "barpolar": [
           {
            "marker": {
             "line": {
              "color": "white",
              "width": 0.5
             }
            },
            "type": "barpolar"
           }
          ],
          "carpet": [
           {
            "aaxis": {
             "endlinecolor": "#2a3f5f",
             "gridcolor": "#C8D4E3",
             "linecolor": "#C8D4E3",
             "minorgridcolor": "#C8D4E3",
             "startlinecolor": "#2a3f5f"
            },
            "baxis": {
             "endlinecolor": "#2a3f5f",
             "gridcolor": "#C8D4E3",
             "linecolor": "#C8D4E3",
             "minorgridcolor": "#C8D4E3",
             "startlinecolor": "#2a3f5f"
            },
            "type": "carpet"
           }
          ],
          "choropleth": [
           {
            "colorbar": {
             "outlinewidth": 0,
             "ticks": ""
            },
            "type": "choropleth"
           }
          ],
          "contour": [
           {
            "colorbar": {
             "outlinewidth": 0,
             "ticks": ""
            },
            "colorscale": [
             [
              0,
              "#0d0887"
             ],
             [
              0.1111111111111111,
              "#46039f"
             ],
             [
              0.2222222222222222,
              "#7201a8"
             ],
             [
              0.3333333333333333,
              "#9c179e"
             ],
             [
              0.4444444444444444,
              "#bd3786"
             ],
             [
              0.5555555555555556,
              "#d8576b"
             ],
             [
              0.6666666666666666,
              "#ed7953"
             ],
             [
              0.7777777777777778,
              "#fb9f3a"
             ],
             [
              0.8888888888888888,
              "#fdca26"
             ],
             [
              1,
              "#f0f921"
             ]
            ],
            "type": "contour"
           }
          ],
          "contourcarpet": [
           {
            "colorbar": {
             "outlinewidth": 0,
             "ticks": ""
            },
            "type": "contourcarpet"
           }
          ],
          "heatmap": [
           {
            "colorbar": {
             "outlinewidth": 0,
             "ticks": ""
            },
            "colorscale": [
             [
              0,
              "#0d0887"
             ],
             [
              0.1111111111111111,
              "#46039f"
             ],
             [
              0.2222222222222222,
              "#7201a8"
             ],
             [
              0.3333333333333333,
              "#9c179e"
             ],
             [
              0.4444444444444444,
              "#bd3786"
             ],
             [
              0.5555555555555556,
              "#d8576b"
             ],
             [
              0.6666666666666666,
              "#ed7953"
             ],
             [
              0.7777777777777778,
              "#fb9f3a"
             ],
             [
              0.8888888888888888,
              "#fdca26"
             ],
             [
              1,
              "#f0f921"
             ]
            ],
            "type": "heatmap"
           }
          ],
          "heatmapgl": [
           {
            "colorbar": {
             "outlinewidth": 0,
             "ticks": ""
            },
            "colorscale": [
             [
              0,
              "#0d0887"
             ],
             [
              0.1111111111111111,
              "#46039f"
             ],
             [
              0.2222222222222222,
              "#7201a8"
             ],
             [
              0.3333333333333333,
              "#9c179e"
             ],
             [
              0.4444444444444444,
              "#bd3786"
             ],
             [
              0.5555555555555556,
              "#d8576b"
             ],
             [
              0.6666666666666666,
              "#ed7953"
             ],
             [
              0.7777777777777778,
              "#fb9f3a"
             ],
             [
              0.8888888888888888,
              "#fdca26"
             ],
             [
              1,
              "#f0f921"
             ]
            ],
            "type": "heatmapgl"
           }
          ],
          "histogram": [
           {
            "marker": {
             "colorbar": {
              "outlinewidth": 0,
              "ticks": ""
             }
            },
            "type": "histogram"
           }
          ],
          "histogram2d": [
           {
            "colorbar": {
             "outlinewidth": 0,
             "ticks": ""
            },
            "colorscale": [
             [
              0,
              "#0d0887"
             ],
             [
              0.1111111111111111,
              "#46039f"
             ],
             [
              0.2222222222222222,
              "#7201a8"
             ],
             [
              0.3333333333333333,
              "#9c179e"
             ],
             [
              0.4444444444444444,
              "#bd3786"
             ],
             [
              0.5555555555555556,
              "#d8576b"
             ],
             [
              0.6666666666666666,
              "#ed7953"
             ],
             [
              0.7777777777777778,
              "#fb9f3a"
             ],
             [
              0.8888888888888888,
              "#fdca26"
             ],
             [
              1,
              "#f0f921"
             ]
            ],
            "type": "histogram2d"
           }
          ],
          "histogram2dcontour": [
           {
            "colorbar": {
             "outlinewidth": 0,
             "ticks": ""
            },
            "colorscale": [
             [
              0,
              "#0d0887"
             ],
             [
              0.1111111111111111,
              "#46039f"
             ],
             [
              0.2222222222222222,
              "#7201a8"
             ],
             [
              0.3333333333333333,
              "#9c179e"
             ],
             [
              0.4444444444444444,
              "#bd3786"
             ],
             [
              0.5555555555555556,
              "#d8576b"
             ],
             [
              0.6666666666666666,
              "#ed7953"
             ],
             [
              0.7777777777777778,
              "#fb9f3a"
             ],
             [
              0.8888888888888888,
              "#fdca26"
             ],
             [
              1,
              "#f0f921"
             ]
            ],
            "type": "histogram2dcontour"
           }
          ],
          "mesh3d": [
           {
            "colorbar": {
             "outlinewidth": 0,
             "ticks": ""
            },
            "type": "mesh3d"
           }
          ],
          "parcoords": [
           {
            "line": {
             "colorbar": {
              "outlinewidth": 0,
              "ticks": ""
             }
            },
            "type": "parcoords"
           }
          ],
          "pie": [
           {
            "automargin": true,
            "type": "pie"
           }
          ],
          "scatter": [
           {
            "marker": {
             "colorbar": {
              "outlinewidth": 0,
              "ticks": ""
             }
            },
            "type": "scatter"
           }
          ],
          "scatter3d": [
           {
            "line": {
             "colorbar": {
              "outlinewidth": 0,
              "ticks": ""
             }
            },
            "marker": {
             "colorbar": {
              "outlinewidth": 0,
              "ticks": ""
             }
            },
            "type": "scatter3d"
           }
          ],
          "scattercarpet": [
           {
            "marker": {
             "colorbar": {
              "outlinewidth": 0,
              "ticks": ""
             }
            },
            "type": "scattercarpet"
           }
          ],
          "scattergeo": [
           {
            "marker": {
             "colorbar": {
              "outlinewidth": 0,
              "ticks": ""
             }
            },
            "type": "scattergeo"
           }
          ],
          "scattergl": [
           {
            "marker": {
             "colorbar": {
              "outlinewidth": 0,
              "ticks": ""
             }
            },
            "type": "scattergl"
           }
          ],
          "scattermapbox": [
           {
            "marker": {
             "colorbar": {
              "outlinewidth": 0,
              "ticks": ""
             }
            },
            "type": "scattermapbox"
           }
          ],
          "scatterpolar": [
           {
            "marker": {
             "colorbar": {
              "outlinewidth": 0,
              "ticks": ""
             }
            },
            "type": "scatterpolar"
           }
          ],
          "scatterpolargl": [
           {
            "marker": {
             "colorbar": {
              "outlinewidth": 0,
              "ticks": ""
             }
            },
            "type": "scatterpolargl"
           }
          ],
          "scatterternary": [
           {
            "marker": {
             "colorbar": {
              "outlinewidth": 0,
              "ticks": ""
             }
            },
            "type": "scatterternary"
           }
          ],
          "surface": [
           {
            "colorbar": {
             "outlinewidth": 0,
             "ticks": ""
            },
            "colorscale": [
             [
              0,
              "#0d0887"
             ],
             [
              0.1111111111111111,
              "#46039f"
             ],
             [
              0.2222222222222222,
              "#7201a8"
             ],
             [
              0.3333333333333333,
              "#9c179e"
             ],
             [
              0.4444444444444444,
              "#bd3786"
             ],
             [
              0.5555555555555556,
              "#d8576b"
             ],
             [
              0.6666666666666666,
              "#ed7953"
             ],
             [
              0.7777777777777778,
              "#fb9f3a"
             ],
             [
              0.8888888888888888,
              "#fdca26"
             ],
             [
              1,
              "#f0f921"
             ]
            ],
            "type": "surface"
           }
          ],
          "table": [
           {
            "cells": {
             "fill": {
              "color": "#EBF0F8"
             },
             "line": {
              "color": "white"
             }
            },
            "header": {
             "fill": {
              "color": "#C8D4E3"
             },
             "line": {
              "color": "white"
             }
            },
            "type": "table"
           }
          ]
         },
         "layout": {
          "annotationdefaults": {
           "arrowcolor": "#2a3f5f",
           "arrowhead": 0,
           "arrowwidth": 1
          },
          "autotypenumbers": "strict",
          "coloraxis": {
           "colorbar": {
            "outlinewidth": 0,
            "ticks": ""
           }
          },
          "colorscale": {
           "diverging": [
            [
             0,
             "#8e0152"
            ],
            [
             0.1,
             "#c51b7d"
            ],
            [
             0.2,
             "#de77ae"
            ],
            [
             0.3,
             "#f1b6da"
            ],
            [
             0.4,
             "#fde0ef"
            ],
            [
             0.5,
             "#f7f7f7"
            ],
            [
             0.6,
             "#e6f5d0"
            ],
            [
             0.7,
             "#b8e186"
            ],
            [
             0.8,
             "#7fbc41"
            ],
            [
             0.9,
             "#4d9221"
            ],
            [
             1,
             "#276419"
            ]
           ],
           "sequential": [
            [
             0,
             "#0d0887"
            ],
            [
             0.1111111111111111,
             "#46039f"
            ],
            [
             0.2222222222222222,
             "#7201a8"
            ],
            [
             0.3333333333333333,
             "#9c179e"
            ],
            [
             0.4444444444444444,
             "#bd3786"
            ],
            [
             0.5555555555555556,
             "#d8576b"
            ],
            [
             0.6666666666666666,
             "#ed7953"
            ],
            [
             0.7777777777777778,
             "#fb9f3a"
            ],
            [
             0.8888888888888888,
             "#fdca26"
            ],
            [
             1,
             "#f0f921"
            ]
           ],
           "sequentialminus": [
            [
             0,
             "#0d0887"
            ],
            [
             0.1111111111111111,
             "#46039f"
            ],
            [
             0.2222222222222222,
             "#7201a8"
            ],
            [
             0.3333333333333333,
             "#9c179e"
            ],
            [
             0.4444444444444444,
             "#bd3786"
            ],
            [
             0.5555555555555556,
             "#d8576b"
            ],
            [
             0.6666666666666666,
             "#ed7953"
            ],
            [
             0.7777777777777778,
             "#fb9f3a"
            ],
            [
             0.8888888888888888,
             "#fdca26"
            ],
            [
             1,
             "#f0f921"
            ]
           ]
          },
          "colorway": [
           "#636efa",
           "#EF553B",
           "#00cc96",
           "#ab63fa",
           "#FFA15A",
           "#19d3f3",
           "#FF6692",
           "#B6E880",
           "#FF97FF",
           "#FECB52"
          ],
          "font": {
           "color": "#2a3f5f"
          },
          "geo": {
           "bgcolor": "white",
           "lakecolor": "white",
           "landcolor": "white",
           "showlakes": true,
           "showland": true,
           "subunitcolor": "#C8D4E3"
          },
          "hoverlabel": {
           "align": "left"
          },
          "hovermode": "closest",
          "mapbox": {
           "style": "light"
          },
          "paper_bgcolor": "white",
          "plot_bgcolor": "white",
          "polar": {
           "angularaxis": {
            "gridcolor": "#EBF0F8",
            "linecolor": "#EBF0F8",
            "ticks": ""
           },
           "bgcolor": "white",
           "radialaxis": {
            "gridcolor": "#EBF0F8",
            "linecolor": "#EBF0F8",
            "ticks": ""
           }
          },
          "scene": {
           "xaxis": {
            "backgroundcolor": "white",
            "gridcolor": "#DFE8F3",
            "gridwidth": 2,
            "linecolor": "#EBF0F8",
            "showbackground": true,
            "ticks": "",
            "zerolinecolor": "#EBF0F8"
           },
           "yaxis": {
            "backgroundcolor": "white",
            "gridcolor": "#DFE8F3",
            "gridwidth": 2,
            "linecolor": "#EBF0F8",
            "showbackground": true,
            "ticks": "",
            "zerolinecolor": "#EBF0F8"
           },
           "zaxis": {
            "backgroundcolor": "white",
            "gridcolor": "#DFE8F3",
            "gridwidth": 2,
            "linecolor": "#EBF0F8",
            "showbackground": true,
            "ticks": "",
            "zerolinecolor": "#EBF0F8"
           }
          },
          "shapedefaults": {
           "line": {
            "color": "#2a3f5f"
           }
          },
          "ternary": {
           "aaxis": {
            "gridcolor": "#DFE8F3",
            "linecolor": "#A2B1C6",
            "ticks": ""
           },
           "baxis": {
            "gridcolor": "#DFE8F3",
            "linecolor": "#A2B1C6",
            "ticks": ""
           },
           "bgcolor": "white",
           "caxis": {
            "gridcolor": "#DFE8F3",
            "linecolor": "#A2B1C6",
            "ticks": ""
           }
          },
          "title": {
           "x": 0.05
          },
          "xaxis": {
           "automargin": true,
           "gridcolor": "#EBF0F8",
           "linecolor": "#EBF0F8",
           "ticks": "",
           "title": {
            "standoff": 15
           },
           "zerolinecolor": "#EBF0F8",
           "zerolinewidth": 2
          },
          "yaxis": {
           "automargin": true,
           "gridcolor": "#EBF0F8",
           "linecolor": "#EBF0F8",
           "ticks": "",
           "title": {
            "standoff": 15
           },
           "zerolinecolor": "#EBF0F8",
           "zerolinewidth": 2
          }
         }
        },
        "title": {
         "text": "Crime rate from (2015 - 2018"
        },
        "xaxis": {
         "anchor": "y",
         "domain": [
          0,
          1
         ],
         "showgrid": false,
         "title": {
          "text": "Year"
         }
        },
        "yaxis": {
         "anchor": "x",
         "domain": [
          0,
          1
         ],
         "title": {
          "text": "Crime Rate"
         }
        }
       }
      }
     },
     "metadata": {}
    }
   ],
   "source": [
    "import plotly.express as px\n",
    "def bar_plot(title, labels, x, y, data ):\n",
    "        fig = px.bar(data, x=x, y=y, title = title, labels = labels, text = y)\n",
    "        fig.update_traces(marker_color= '#00a2ed',  textposition='inside', texttemplate='%{text:.2s}')\n",
    "        fig.update_xaxes(showgrid=False)\n",
    "        fig.update_layout(template=\"plotly_white\")\n",
    "\n",
    "\n",
    "        fig.show()\n",
    "bar_plot(\"Crime rate from (2015 - 2018\", dict(report_year = \"Year\", y =  \"Crime Rate\"),crime_per_year.index, values, crime_per_year )"
   ]
  },
  {
   "cell_type": "code",
   "execution_count": 68,
   "metadata": {},
   "outputs": [
    {
     "output_type": "display_data",
     "data": {
      "application/vnd.plotly.v1+json": {
       "config": {
        "plotlyServerURL": "https://plot.ly"
       },
       "data": [
        {
         "hovertemplate": "report_year=%{x}<br>y=%{y}<extra></extra>",
         "legendgroup": "",
         "marker": {
          "color": "#00a2ed",
          "symbol": "circle"
         },
         "mode": "lines+markers",
         "name": "",
         "orientation": "v",
         "showlegend": false,
         "type": "scatter",
         "x": [
          2015,
          2016,
          2017,
          2018
         ],
         "xaxis": "x",
         "y": [
          5013.857142857143,
          5308,
          5351.571428571428,
          5510.428571428572
         ],
         "yaxis": "y"
        }
       ],
       "layout": {
        "legend": {
         "tracegroupgap": 0
        },
        "template": {
         "data": {
          "bar": [
           {
            "error_x": {
             "color": "#2a3f5f"
            },
            "error_y": {
             "color": "#2a3f5f"
            },
            "marker": {
             "line": {
              "color": "white",
              "width": 0.5
             }
            },
            "type": "bar"
           }
          ],
          "barpolar": [
           {
            "marker": {
             "line": {
              "color": "white",
              "width": 0.5
             }
            },
            "type": "barpolar"
           }
          ],
          "carpet": [
           {
            "aaxis": {
             "endlinecolor": "#2a3f5f",
             "gridcolor": "#C8D4E3",
             "linecolor": "#C8D4E3",
             "minorgridcolor": "#C8D4E3",
             "startlinecolor": "#2a3f5f"
            },
            "baxis": {
             "endlinecolor": "#2a3f5f",
             "gridcolor": "#C8D4E3",
             "linecolor": "#C8D4E3",
             "minorgridcolor": "#C8D4E3",
             "startlinecolor": "#2a3f5f"
            },
            "type": "carpet"
           }
          ],
          "choropleth": [
           {
            "colorbar": {
             "outlinewidth": 0,
             "ticks": ""
            },
            "type": "choropleth"
           }
          ],
          "contour": [
           {
            "colorbar": {
             "outlinewidth": 0,
             "ticks": ""
            },
            "colorscale": [
             [
              0,
              "#0d0887"
             ],
             [
              0.1111111111111111,
              "#46039f"
             ],
             [
              0.2222222222222222,
              "#7201a8"
             ],
             [
              0.3333333333333333,
              "#9c179e"
             ],
             [
              0.4444444444444444,
              "#bd3786"
             ],
             [
              0.5555555555555556,
              "#d8576b"
             ],
             [
              0.6666666666666666,
              "#ed7953"
             ],
             [
              0.7777777777777778,
              "#fb9f3a"
             ],
             [
              0.8888888888888888,
              "#fdca26"
             ],
             [
              1,
              "#f0f921"
             ]
            ],
            "type": "contour"
           }
          ],
          "contourcarpet": [
           {
            "colorbar": {
             "outlinewidth": 0,
             "ticks": ""
            },
            "type": "contourcarpet"
           }
          ],
          "heatmap": [
           {
            "colorbar": {
             "outlinewidth": 0,
             "ticks": ""
            },
            "colorscale": [
             [
              0,
              "#0d0887"
             ],
             [
              0.1111111111111111,
              "#46039f"
             ],
             [
              0.2222222222222222,
              "#7201a8"
             ],
             [
              0.3333333333333333,
              "#9c179e"
             ],
             [
              0.4444444444444444,
              "#bd3786"
             ],
             [
              0.5555555555555556,
              "#d8576b"
             ],
             [
              0.6666666666666666,
              "#ed7953"
             ],
             [
              0.7777777777777778,
              "#fb9f3a"
             ],
             [
              0.8888888888888888,
              "#fdca26"
             ],
             [
              1,
              "#f0f921"
             ]
            ],
            "type": "heatmap"
           }
          ],
          "heatmapgl": [
           {
            "colorbar": {
             "outlinewidth": 0,
             "ticks": ""
            },
            "colorscale": [
             [
              0,
              "#0d0887"
             ],
             [
              0.1111111111111111,
              "#46039f"
             ],
             [
              0.2222222222222222,
              "#7201a8"
             ],
             [
              0.3333333333333333,
              "#9c179e"
             ],
             [
              0.4444444444444444,
              "#bd3786"
             ],
             [
              0.5555555555555556,
              "#d8576b"
             ],
             [
              0.6666666666666666,
              "#ed7953"
             ],
             [
              0.7777777777777778,
              "#fb9f3a"
             ],
             [
              0.8888888888888888,
              "#fdca26"
             ],
             [
              1,
              "#f0f921"
             ]
            ],
            "type": "heatmapgl"
           }
          ],
          "histogram": [
           {
            "marker": {
             "colorbar": {
              "outlinewidth": 0,
              "ticks": ""
             }
            },
            "type": "histogram"
           }
          ],
          "histogram2d": [
           {
            "colorbar": {
             "outlinewidth": 0,
             "ticks": ""
            },
            "colorscale": [
             [
              0,
              "#0d0887"
             ],
             [
              0.1111111111111111,
              "#46039f"
             ],
             [
              0.2222222222222222,
              "#7201a8"
             ],
             [
              0.3333333333333333,
              "#9c179e"
             ],
             [
              0.4444444444444444,
              "#bd3786"
             ],
             [
              0.5555555555555556,
              "#d8576b"
             ],
             [
              0.6666666666666666,
              "#ed7953"
             ],
             [
              0.7777777777777778,
              "#fb9f3a"
             ],
             [
              0.8888888888888888,
              "#fdca26"
             ],
             [
              1,
              "#f0f921"
             ]
            ],
            "type": "histogram2d"
           }
          ],
          "histogram2dcontour": [
           {
            "colorbar": {
             "outlinewidth": 0,
             "ticks": ""
            },
            "colorscale": [
             [
              0,
              "#0d0887"
             ],
             [
              0.1111111111111111,
              "#46039f"
             ],
             [
              0.2222222222222222,
              "#7201a8"
             ],
             [
              0.3333333333333333,
              "#9c179e"
             ],
             [
              0.4444444444444444,
              "#bd3786"
             ],
             [
              0.5555555555555556,
              "#d8576b"
             ],
             [
              0.6666666666666666,
              "#ed7953"
             ],
             [
              0.7777777777777778,
              "#fb9f3a"
             ],
             [
              0.8888888888888888,
              "#fdca26"
             ],
             [
              1,
              "#f0f921"
             ]
            ],
            "type": "histogram2dcontour"
           }
          ],
          "mesh3d": [
           {
            "colorbar": {
             "outlinewidth": 0,
             "ticks": ""
            },
            "type": "mesh3d"
           }
          ],
          "parcoords": [
           {
            "line": {
             "colorbar": {
              "outlinewidth": 0,
              "ticks": ""
             }
            },
            "type": "parcoords"
           }
          ],
          "pie": [
           {
            "automargin": true,
            "type": "pie"
           }
          ],
          "scatter": [
           {
            "marker": {
             "colorbar": {
              "outlinewidth": 0,
              "ticks": ""
             }
            },
            "type": "scatter"
           }
          ],
          "scatter3d": [
           {
            "line": {
             "colorbar": {
              "outlinewidth": 0,
              "ticks": ""
             }
            },
            "marker": {
             "colorbar": {
              "outlinewidth": 0,
              "ticks": ""
             }
            },
            "type": "scatter3d"
           }
          ],
          "scattercarpet": [
           {
            "marker": {
             "colorbar": {
              "outlinewidth": 0,
              "ticks": ""
             }
            },
            "type": "scattercarpet"
           }
          ],
          "scattergeo": [
           {
            "marker": {
             "colorbar": {
              "outlinewidth": 0,
              "ticks": ""
             }
            },
            "type": "scattergeo"
           }
          ],
          "scattergl": [
           {
            "marker": {
             "colorbar": {
              "outlinewidth": 0,
              "ticks": ""
             }
            },
            "type": "scattergl"
           }
          ],
          "scattermapbox": [
           {
            "marker": {
             "colorbar": {
              "outlinewidth": 0,
              "ticks": ""
             }
            },
            "type": "scattermapbox"
           }
          ],
          "scatterpolar": [
           {
            "marker": {
             "colorbar": {
              "outlinewidth": 0,
              "ticks": ""
             }
            },
            "type": "scatterpolar"
           }
          ],
          "scatterpolargl": [
           {
            "marker": {
             "colorbar": {
              "outlinewidth": 0,
              "ticks": ""
             }
            },
            "type": "scatterpolargl"
           }
          ],
          "scatterternary": [
           {
            "marker": {
             "colorbar": {
              "outlinewidth": 0,
              "ticks": ""
             }
            },
            "type": "scatterternary"
           }
          ],
          "surface": [
           {
            "colorbar": {
             "outlinewidth": 0,
             "ticks": ""
            },
            "colorscale": [
             [
              0,
              "#0d0887"
             ],
             [
              0.1111111111111111,
              "#46039f"
             ],
             [
              0.2222222222222222,
              "#7201a8"
             ],
             [
              0.3333333333333333,
              "#9c179e"
             ],
             [
              0.4444444444444444,
              "#bd3786"
             ],
             [
              0.5555555555555556,
              "#d8576b"
             ],
             [
              0.6666666666666666,
              "#ed7953"
             ],
             [
              0.7777777777777778,
              "#fb9f3a"
             ],
             [
              0.8888888888888888,
              "#fdca26"
             ],
             [
              1,
              "#f0f921"
             ]
            ],
            "type": "surface"
           }
          ],
          "table": [
           {
            "cells": {
             "fill": {
              "color": "#EBF0F8"
             },
             "line": {
              "color": "white"
             }
            },
            "header": {
             "fill": {
              "color": "#C8D4E3"
             },
             "line": {
              "color": "white"
             }
            },
            "type": "table"
           }
          ]
         },
         "layout": {
          "annotationdefaults": {
           "arrowcolor": "#2a3f5f",
           "arrowhead": 0,
           "arrowwidth": 1
          },
          "autotypenumbers": "strict",
          "coloraxis": {
           "colorbar": {
            "outlinewidth": 0,
            "ticks": ""
           }
          },
          "colorscale": {
           "diverging": [
            [
             0,
             "#8e0152"
            ],
            [
             0.1,
             "#c51b7d"
            ],
            [
             0.2,
             "#de77ae"
            ],
            [
             0.3,
             "#f1b6da"
            ],
            [
             0.4,
             "#fde0ef"
            ],
            [
             0.5,
             "#f7f7f7"
            ],
            [
             0.6,
             "#e6f5d0"
            ],
            [
             0.7,
             "#b8e186"
            ],
            [
             0.8,
             "#7fbc41"
            ],
            [
             0.9,
             "#4d9221"
            ],
            [
             1,
             "#276419"
            ]
           ],
           "sequential": [
            [
             0,
             "#0d0887"
            ],
            [
             0.1111111111111111,
             "#46039f"
            ],
            [
             0.2222222222222222,
             "#7201a8"
            ],
            [
             0.3333333333333333,
             "#9c179e"
            ],
            [
             0.4444444444444444,
             "#bd3786"
            ],
            [
             0.5555555555555556,
             "#d8576b"
            ],
            [
             0.6666666666666666,
             "#ed7953"
            ],
            [
             0.7777777777777778,
             "#fb9f3a"
            ],
            [
             0.8888888888888888,
             "#fdca26"
            ],
            [
             1,
             "#f0f921"
            ]
           ],
           "sequentialminus": [
            [
             0,
             "#0d0887"
            ],
            [
             0.1111111111111111,
             "#46039f"
            ],
            [
             0.2222222222222222,
             "#7201a8"
            ],
            [
             0.3333333333333333,
             "#9c179e"
            ],
            [
             0.4444444444444444,
             "#bd3786"
            ],
            [
             0.5555555555555556,
             "#d8576b"
            ],
            [
             0.6666666666666666,
             "#ed7953"
            ],
            [
             0.7777777777777778,
             "#fb9f3a"
            ],
            [
             0.8888888888888888,
             "#fdca26"
            ],
            [
             1,
             "#f0f921"
            ]
           ]
          },
          "colorway": [
           "#636efa",
           "#EF553B",
           "#00cc96",
           "#ab63fa",
           "#FFA15A",
           "#19d3f3",
           "#FF6692",
           "#B6E880",
           "#FF97FF",
           "#FECB52"
          ],
          "font": {
           "color": "#2a3f5f"
          },
          "geo": {
           "bgcolor": "white",
           "lakecolor": "white",
           "landcolor": "white",
           "showlakes": true,
           "showland": true,
           "subunitcolor": "#C8D4E3"
          },
          "hoverlabel": {
           "align": "left"
          },
          "hovermode": "closest",
          "mapbox": {
           "style": "light"
          },
          "paper_bgcolor": "white",
          "plot_bgcolor": "white",
          "polar": {
           "angularaxis": {
            "gridcolor": "#EBF0F8",
            "linecolor": "#EBF0F8",
            "ticks": ""
           },
           "bgcolor": "white",
           "radialaxis": {
            "gridcolor": "#EBF0F8",
            "linecolor": "#EBF0F8",
            "ticks": ""
           }
          },
          "scene": {
           "xaxis": {
            "backgroundcolor": "white",
            "gridcolor": "#DFE8F3",
            "gridwidth": 2,
            "linecolor": "#EBF0F8",
            "showbackground": true,
            "ticks": "",
            "zerolinecolor": "#EBF0F8"
           },
           "yaxis": {
            "backgroundcolor": "white",
            "gridcolor": "#DFE8F3",
            "gridwidth": 2,
            "linecolor": "#EBF0F8",
            "showbackground": true,
            "ticks": "",
            "zerolinecolor": "#EBF0F8"
           },
           "zaxis": {
            "backgroundcolor": "white",
            "gridcolor": "#DFE8F3",
            "gridwidth": 2,
            "linecolor": "#EBF0F8",
            "showbackground": true,
            "ticks": "",
            "zerolinecolor": "#EBF0F8"
           }
          },
          "shapedefaults": {
           "line": {
            "color": "#2a3f5f"
           }
          },
          "ternary": {
           "aaxis": {
            "gridcolor": "#DFE8F3",
            "linecolor": "#A2B1C6",
            "ticks": ""
           },
           "baxis": {
            "gridcolor": "#DFE8F3",
            "linecolor": "#A2B1C6",
            "ticks": ""
           },
           "bgcolor": "white",
           "caxis": {
            "gridcolor": "#DFE8F3",
            "linecolor": "#A2B1C6",
            "ticks": ""
           }
          },
          "title": {
           "x": 0.05
          },
          "xaxis": {
           "automargin": true,
           "gridcolor": "#EBF0F8",
           "linecolor": "#EBF0F8",
           "ticks": "",
           "title": {
            "standoff": 15
           },
           "zerolinecolor": "#EBF0F8",
           "zerolinewidth": 2
          },
          "yaxis": {
           "automargin": true,
           "gridcolor": "#EBF0F8",
           "linecolor": "#EBF0F8",
           "ticks": "",
           "title": {
            "standoff": 15
           },
           "zerolinecolor": "#EBF0F8",
           "zerolinewidth": 2
          }
         }
        },
        "title": {
         "text": "Crime rate from (2015 - 2018)"
        },
        "xaxis": {
         "anchor": "y",
         "domain": [
          0,
          1
         ],
         "showgrid": false,
         "title": {
          "text": "report_year"
         }
        },
        "yaxis": {
         "anchor": "x",
         "domain": [
          0,
          1
         ],
         "title": {
          "text": "y"
         }
        }
       }
      }
     },
     "metadata": {}
    }
   ],
   "source": [
    "fig = px.scatter(crime_per_year, x=crime_per_year.index, y= values, title='Crime rate from (2015 - 2018)')\n",
    "fig.update_traces(marker_color= '#00a2ed',  mode='lines+markers')\n",
    "fig.update_xaxes(showgrid=False)\n",
    "fig.update_layout(template=\"plotly_white\")\n",
    "fig.show()"
   ]
  },
  {
   "cell_type": "code",
   "execution_count": 87,
   "metadata": {},
   "outputs": [
    {
     "output_type": "execute_result",
     "data": {
      "text/plain": [
       "Theft          26572\n",
       "Burglary        4171\n",
       "Auto Theft      2427\n",
       "Agg Assault     2128\n",
       "Robbery         1022\n",
       "Rape             804\n",
       "Murder            32\n",
       "Name: crime_type, dtype: int64"
      ]
     },
     "metadata": {},
     "execution_count": 87
    }
   ],
   "source": [
    "top_18 = df.query(\"report_year =='2018'\")[\"crime_type\"].value_counts()\n",
    "top_18\n"
   ]
  },
  {
   "cell_type": "code",
   "execution_count": 88,
   "metadata": {},
   "outputs": [
    {
     "output_type": "execute_result",
     "data": {
      "text/plain": [
       "Theft          24609\n",
       "Burglary        4338\n",
       "Agg Assault     2319\n",
       "Auto Theft      2016\n",
       "Robbery          979\n",
       "Rape             811\n",
       "Murder            25\n",
       "Name: crime_type, dtype: int64"
      ]
     },
     "metadata": {},
     "execution_count": 88
    }
   ],
   "source": [
    "top_17 = df.query(\"report_year =='2017'\")[\"crime_type\"].value_counts()\n",
    "top_17\n"
   ]
  },
  {
   "cell_type": "code",
   "execution_count": 70,
   "metadata": {},
   "outputs": [
    {
     "output_type": "display_data",
     "data": {
      "application/vnd.plotly.v1+json": {
       "config": {
        "plotlyServerURL": "https://plot.ly"
       },
       "data": [
        {
         "alignmentgroup": "True",
         "hovertemplate": "crime type=%{x}<br>Crime Rate=%{y}<br>text=%{text}<extra></extra>",
         "legendgroup": "",
         "marker": {
          "color": "#00a2ed"
         },
         "name": "",
         "offsetgroup": "",
         "orientation": "v",
         "showlegend": false,
         "text": [
          26572,
          4171,
          2427,
          2128,
          1022,
          804,
          32
         ],
         "textposition": "inside",
         "texttemplate": "%{text:.2s}",
         "type": "bar",
         "x": [
          "Theft",
          "Burglary",
          "Auto Theft",
          "Agg Assault",
          "Robbery",
          "Rape",
          "Murder"
         ],
         "xaxis": "x",
         "y": [
          26572,
          4171,
          2427,
          2128,
          1022,
          804,
          32
         ],
         "yaxis": "y"
        }
       ],
       "layout": {
        "barmode": "relative",
        "legend": {
         "tracegroupgap": 0
        },
        "template": {
         "data": {
          "bar": [
           {
            "error_x": {
             "color": "#2a3f5f"
            },
            "error_y": {
             "color": "#2a3f5f"
            },
            "marker": {
             "line": {
              "color": "white",
              "width": 0.5
             }
            },
            "type": "bar"
           }
          ],
          "barpolar": [
           {
            "marker": {
             "line": {
              "color": "white",
              "width": 0.5
             }
            },
            "type": "barpolar"
           }
          ],
          "carpet": [
           {
            "aaxis": {
             "endlinecolor": "#2a3f5f",
             "gridcolor": "#C8D4E3",
             "linecolor": "#C8D4E3",
             "minorgridcolor": "#C8D4E3",
             "startlinecolor": "#2a3f5f"
            },
            "baxis": {
             "endlinecolor": "#2a3f5f",
             "gridcolor": "#C8D4E3",
             "linecolor": "#C8D4E3",
             "minorgridcolor": "#C8D4E3",
             "startlinecolor": "#2a3f5f"
            },
            "type": "carpet"
           }
          ],
          "choropleth": [
           {
            "colorbar": {
             "outlinewidth": 0,
             "ticks": ""
            },
            "type": "choropleth"
           }
          ],
          "contour": [
           {
            "colorbar": {
             "outlinewidth": 0,
             "ticks": ""
            },
            "colorscale": [
             [
              0,
              "#0d0887"
             ],
             [
              0.1111111111111111,
              "#46039f"
             ],
             [
              0.2222222222222222,
              "#7201a8"
             ],
             [
              0.3333333333333333,
              "#9c179e"
             ],
             [
              0.4444444444444444,
              "#bd3786"
             ],
             [
              0.5555555555555556,
              "#d8576b"
             ],
             [
              0.6666666666666666,
              "#ed7953"
             ],
             [
              0.7777777777777778,
              "#fb9f3a"
             ],
             [
              0.8888888888888888,
              "#fdca26"
             ],
             [
              1,
              "#f0f921"
             ]
            ],
            "type": "contour"
           }
          ],
          "contourcarpet": [
           {
            "colorbar": {
             "outlinewidth": 0,
             "ticks": ""
            },
            "type": "contourcarpet"
           }
          ],
          "heatmap": [
           {
            "colorbar": {
             "outlinewidth": 0,
             "ticks": ""
            },
            "colorscale": [
             [
              0,
              "#0d0887"
             ],
             [
              0.1111111111111111,
              "#46039f"
             ],
             [
              0.2222222222222222,
              "#7201a8"
             ],
             [
              0.3333333333333333,
              "#9c179e"
             ],
             [
              0.4444444444444444,
              "#bd3786"
             ],
             [
              0.5555555555555556,
              "#d8576b"
             ],
             [
              0.6666666666666666,
              "#ed7953"
             ],
             [
              0.7777777777777778,
              "#fb9f3a"
             ],
             [
              0.8888888888888888,
              "#fdca26"
             ],
             [
              1,
              "#f0f921"
             ]
            ],
            "type": "heatmap"
           }
          ],
          "heatmapgl": [
           {
            "colorbar": {
             "outlinewidth": 0,
             "ticks": ""
            },
            "colorscale": [
             [
              0,
              "#0d0887"
             ],
             [
              0.1111111111111111,
              "#46039f"
             ],
             [
              0.2222222222222222,
              "#7201a8"
             ],
             [
              0.3333333333333333,
              "#9c179e"
             ],
             [
              0.4444444444444444,
              "#bd3786"
             ],
             [
              0.5555555555555556,
              "#d8576b"
             ],
             [
              0.6666666666666666,
              "#ed7953"
             ],
             [
              0.7777777777777778,
              "#fb9f3a"
             ],
             [
              0.8888888888888888,
              "#fdca26"
             ],
             [
              1,
              "#f0f921"
             ]
            ],
            "type": "heatmapgl"
           }
          ],
          "histogram": [
           {
            "marker": {
             "colorbar": {
              "outlinewidth": 0,
              "ticks": ""
             }
            },
            "type": "histogram"
           }
          ],
          "histogram2d": [
           {
            "colorbar": {
             "outlinewidth": 0,
             "ticks": ""
            },
            "colorscale": [
             [
              0,
              "#0d0887"
             ],
             [
              0.1111111111111111,
              "#46039f"
             ],
             [
              0.2222222222222222,
              "#7201a8"
             ],
             [
              0.3333333333333333,
              "#9c179e"
             ],
             [
              0.4444444444444444,
              "#bd3786"
             ],
             [
              0.5555555555555556,
              "#d8576b"
             ],
             [
              0.6666666666666666,
              "#ed7953"
             ],
             [
              0.7777777777777778,
              "#fb9f3a"
             ],
             [
              0.8888888888888888,
              "#fdca26"
             ],
             [
              1,
              "#f0f921"
             ]
            ],
            "type": "histogram2d"
           }
          ],
          "histogram2dcontour": [
           {
            "colorbar": {
             "outlinewidth": 0,
             "ticks": ""
            },
            "colorscale": [
             [
              0,
              "#0d0887"
             ],
             [
              0.1111111111111111,
              "#46039f"
             ],
             [
              0.2222222222222222,
              "#7201a8"
             ],
             [
              0.3333333333333333,
              "#9c179e"
             ],
             [
              0.4444444444444444,
              "#bd3786"
             ],
             [
              0.5555555555555556,
              "#d8576b"
             ],
             [
              0.6666666666666666,
              "#ed7953"
             ],
             [
              0.7777777777777778,
              "#fb9f3a"
             ],
             [
              0.8888888888888888,
              "#fdca26"
             ],
             [
              1,
              "#f0f921"
             ]
            ],
            "type": "histogram2dcontour"
           }
          ],
          "mesh3d": [
           {
            "colorbar": {
             "outlinewidth": 0,
             "ticks": ""
            },
            "type": "mesh3d"
           }
          ],
          "parcoords": [
           {
            "line": {
             "colorbar": {
              "outlinewidth": 0,
              "ticks": ""
             }
            },
            "type": "parcoords"
           }
          ],
          "pie": [
           {
            "automargin": true,
            "type": "pie"
           }
          ],
          "scatter": [
           {
            "marker": {
             "colorbar": {
              "outlinewidth": 0,
              "ticks": ""
             }
            },
            "type": "scatter"
           }
          ],
          "scatter3d": [
           {
            "line": {
             "colorbar": {
              "outlinewidth": 0,
              "ticks": ""
             }
            },
            "marker": {
             "colorbar": {
              "outlinewidth": 0,
              "ticks": ""
             }
            },
            "type": "scatter3d"
           }
          ],
          "scattercarpet": [
           {
            "marker": {
             "colorbar": {
              "outlinewidth": 0,
              "ticks": ""
             }
            },
            "type": "scattercarpet"
           }
          ],
          "scattergeo": [
           {
            "marker": {
             "colorbar": {
              "outlinewidth": 0,
              "ticks": ""
             }
            },
            "type": "scattergeo"
           }
          ],
          "scattergl": [
           {
            "marker": {
             "colorbar": {
              "outlinewidth": 0,
              "ticks": ""
             }
            },
            "type": "scattergl"
           }
          ],
          "scattermapbox": [
           {
            "marker": {
             "colorbar": {
              "outlinewidth": 0,
              "ticks": ""
             }
            },
            "type": "scattermapbox"
           }
          ],
          "scatterpolar": [
           {
            "marker": {
             "colorbar": {
              "outlinewidth": 0,
              "ticks": ""
             }
            },
            "type": "scatterpolar"
           }
          ],
          "scatterpolargl": [
           {
            "marker": {
             "colorbar": {
              "outlinewidth": 0,
              "ticks": ""
             }
            },
            "type": "scatterpolargl"
           }
          ],
          "scatterternary": [
           {
            "marker": {
             "colorbar": {
              "outlinewidth": 0,
              "ticks": ""
             }
            },
            "type": "scatterternary"
           }
          ],
          "surface": [
           {
            "colorbar": {
             "outlinewidth": 0,
             "ticks": ""
            },
            "colorscale": [
             [
              0,
              "#0d0887"
             ],
             [
              0.1111111111111111,
              "#46039f"
             ],
             [
              0.2222222222222222,
              "#7201a8"
             ],
             [
              0.3333333333333333,
              "#9c179e"
             ],
             [
              0.4444444444444444,
              "#bd3786"
             ],
             [
              0.5555555555555556,
              "#d8576b"
             ],
             [
              0.6666666666666666,
              "#ed7953"
             ],
             [
              0.7777777777777778,
              "#fb9f3a"
             ],
             [
              0.8888888888888888,
              "#fdca26"
             ],
             [
              1,
              "#f0f921"
             ]
            ],
            "type": "surface"
           }
          ],
          "table": [
           {
            "cells": {
             "fill": {
              "color": "#EBF0F8"
             },
             "line": {
              "color": "white"
             }
            },
            "header": {
             "fill": {
              "color": "#C8D4E3"
             },
             "line": {
              "color": "white"
             }
            },
            "type": "table"
           }
          ]
         },
         "layout": {
          "annotationdefaults": {
           "arrowcolor": "#2a3f5f",
           "arrowhead": 0,
           "arrowwidth": 1
          },
          "autotypenumbers": "strict",
          "coloraxis": {
           "colorbar": {
            "outlinewidth": 0,
            "ticks": ""
           }
          },
          "colorscale": {
           "diverging": [
            [
             0,
             "#8e0152"
            ],
            [
             0.1,
             "#c51b7d"
            ],
            [
             0.2,
             "#de77ae"
            ],
            [
             0.3,
             "#f1b6da"
            ],
            [
             0.4,
             "#fde0ef"
            ],
            [
             0.5,
             "#f7f7f7"
            ],
            [
             0.6,
             "#e6f5d0"
            ],
            [
             0.7,
             "#b8e186"
            ],
            [
             0.8,
             "#7fbc41"
            ],
            [
             0.9,
             "#4d9221"
            ],
            [
             1,
             "#276419"
            ]
           ],
           "sequential": [
            [
             0,
             "#0d0887"
            ],
            [
             0.1111111111111111,
             "#46039f"
            ],
            [
             0.2222222222222222,
             "#7201a8"
            ],
            [
             0.3333333333333333,
             "#9c179e"
            ],
            [
             0.4444444444444444,
             "#bd3786"
            ],
            [
             0.5555555555555556,
             "#d8576b"
            ],
            [
             0.6666666666666666,
             "#ed7953"
            ],
            [
             0.7777777777777778,
             "#fb9f3a"
            ],
            [
             0.8888888888888888,
             "#fdca26"
            ],
            [
             1,
             "#f0f921"
            ]
           ],
           "sequentialminus": [
            [
             0,
             "#0d0887"
            ],
            [
             0.1111111111111111,
             "#46039f"
            ],
            [
             0.2222222222222222,
             "#7201a8"
            ],
            [
             0.3333333333333333,
             "#9c179e"
            ],
            [
             0.4444444444444444,
             "#bd3786"
            ],
            [
             0.5555555555555556,
             "#d8576b"
            ],
            [
             0.6666666666666666,
             "#ed7953"
            ],
            [
             0.7777777777777778,
             "#fb9f3a"
            ],
            [
             0.8888888888888888,
             "#fdca26"
            ],
            [
             1,
             "#f0f921"
            ]
           ]
          },
          "colorway": [
           "#636efa",
           "#EF553B",
           "#00cc96",
           "#ab63fa",
           "#FFA15A",
           "#19d3f3",
           "#FF6692",
           "#B6E880",
           "#FF97FF",
           "#FECB52"
          ],
          "font": {
           "color": "#2a3f5f"
          },
          "geo": {
           "bgcolor": "white",
           "lakecolor": "white",
           "landcolor": "white",
           "showlakes": true,
           "showland": true,
           "subunitcolor": "#C8D4E3"
          },
          "hoverlabel": {
           "align": "left"
          },
          "hovermode": "closest",
          "mapbox": {
           "style": "light"
          },
          "paper_bgcolor": "white",
          "plot_bgcolor": "white",
          "polar": {
           "angularaxis": {
            "gridcolor": "#EBF0F8",
            "linecolor": "#EBF0F8",
            "ticks": ""
           },
           "bgcolor": "white",
           "radialaxis": {
            "gridcolor": "#EBF0F8",
            "linecolor": "#EBF0F8",
            "ticks": ""
           }
          },
          "scene": {
           "xaxis": {
            "backgroundcolor": "white",
            "gridcolor": "#DFE8F3",
            "gridwidth": 2,
            "linecolor": "#EBF0F8",
            "showbackground": true,
            "ticks": "",
            "zerolinecolor": "#EBF0F8"
           },
           "yaxis": {
            "backgroundcolor": "white",
            "gridcolor": "#DFE8F3",
            "gridwidth": 2,
            "linecolor": "#EBF0F8",
            "showbackground": true,
            "ticks": "",
            "zerolinecolor": "#EBF0F8"
           },
           "zaxis": {
            "backgroundcolor": "white",
            "gridcolor": "#DFE8F3",
            "gridwidth": 2,
            "linecolor": "#EBF0F8",
            "showbackground": true,
            "ticks": "",
            "zerolinecolor": "#EBF0F8"
           }
          },
          "shapedefaults": {
           "line": {
            "color": "#2a3f5f"
           }
          },
          "ternary": {
           "aaxis": {
            "gridcolor": "#DFE8F3",
            "linecolor": "#A2B1C6",
            "ticks": ""
           },
           "baxis": {
            "gridcolor": "#DFE8F3",
            "linecolor": "#A2B1C6",
            "ticks": ""
           },
           "bgcolor": "white",
           "caxis": {
            "gridcolor": "#DFE8F3",
            "linecolor": "#A2B1C6",
            "ticks": ""
           }
          },
          "title": {
           "x": 0.05
          },
          "xaxis": {
           "automargin": true,
           "gridcolor": "#EBF0F8",
           "linecolor": "#EBF0F8",
           "ticks": "",
           "title": {
            "standoff": 15
           },
           "zerolinecolor": "#EBF0F8",
           "zerolinewidth": 2
          },
          "yaxis": {
           "automargin": true,
           "gridcolor": "#EBF0F8",
           "linecolor": "#EBF0F8",
           "ticks": "",
           "title": {
            "standoff": 15
           },
           "zerolinecolor": "#EBF0F8",
           "zerolinewidth": 2
          }
         }
        },
        "title": {
         "text": "Crime rate for 2018"
        },
        "xaxis": {
         "anchor": "y",
         "domain": [
          0,
          1
         ],
         "showgrid": false,
         "title": {
          "text": "crime type"
         }
        },
        "yaxis": {
         "anchor": "x",
         "domain": [
          0,
          1
         ],
         "title": {
          "text": "Crime Rate"
         }
        }
       }
      }
     },
     "metadata": {}
    }
   ],
   "source": [
    "bar_plot(\"Crime rate for 2018\", dict(index = \"crime type\", y =  \"Crime Rate\"), top_18.index, top_18.values, top_18 )\n"
   ]
  },
  {
   "cell_type": "markdown",
   "metadata": {},
   "source": [
    "# 2 - what are the most crimes "
   ]
  },
  {
   "cell_type": "code",
   "execution_count": 71,
   "metadata": {},
   "outputs": [
    {
     "output_type": "display_data",
     "data": {
      "application/vnd.plotly.v1+json": {
       "config": {
        "plotlyServerURL": "https://plot.ly"
       },
       "data": [
        {
         "alignmentgroup": "True",
         "hovertemplate": "crime type=%{x}<br>Crime Rate=%{y}<br>text=%{text}<extra></extra>",
         "legendgroup": "",
         "marker": {
          "color": "#00a2ed"
         },
         "name": "",
         "offsetgroup": "",
         "orientation": "v",
         "showlegend": false,
         "text": [
          105696,
          18607,
          8539,
          8486,
          3986,
          2855,
          118
         ],
         "textposition": "inside",
         "texttemplate": "%{text:.2s}",
         "type": "bar",
         "x": [
          "Theft",
          "Burglary",
          "Agg Assault",
          "Auto Theft",
          "Robbery",
          "Rape",
          "Murder"
         ],
         "xaxis": "x",
         "y": [
          105696,
          18607,
          8539,
          8486,
          3986,
          2855,
          118
         ],
         "yaxis": "y"
        }
       ],
       "layout": {
        "barmode": "relative",
        "legend": {
         "tracegroupgap": 0
        },
        "template": {
         "data": {
          "bar": [
           {
            "error_x": {
             "color": "#2a3f5f"
            },
            "error_y": {
             "color": "#2a3f5f"
            },
            "marker": {
             "line": {
              "color": "white",
              "width": 0.5
             }
            },
            "type": "bar"
           }
          ],
          "barpolar": [
           {
            "marker": {
             "line": {
              "color": "white",
              "width": 0.5
             }
            },
            "type": "barpolar"
           }
          ],
          "carpet": [
           {
            "aaxis": {
             "endlinecolor": "#2a3f5f",
             "gridcolor": "#C8D4E3",
             "linecolor": "#C8D4E3",
             "minorgridcolor": "#C8D4E3",
             "startlinecolor": "#2a3f5f"
            },
            "baxis": {
             "endlinecolor": "#2a3f5f",
             "gridcolor": "#C8D4E3",
             "linecolor": "#C8D4E3",
             "minorgridcolor": "#C8D4E3",
             "startlinecolor": "#2a3f5f"
            },
            "type": "carpet"
           }
          ],
          "choropleth": [
           {
            "colorbar": {
             "outlinewidth": 0,
             "ticks": ""
            },
            "type": "choropleth"
           }
          ],
          "contour": [
           {
            "colorbar": {
             "outlinewidth": 0,
             "ticks": ""
            },
            "colorscale": [
             [
              0,
              "#0d0887"
             ],
             [
              0.1111111111111111,
              "#46039f"
             ],
             [
              0.2222222222222222,
              "#7201a8"
             ],
             [
              0.3333333333333333,
              "#9c179e"
             ],
             [
              0.4444444444444444,
              "#bd3786"
             ],
             [
              0.5555555555555556,
              "#d8576b"
             ],
             [
              0.6666666666666666,
              "#ed7953"
             ],
             [
              0.7777777777777778,
              "#fb9f3a"
             ],
             [
              0.8888888888888888,
              "#fdca26"
             ],
             [
              1,
              "#f0f921"
             ]
            ],
            "type": "contour"
           }
          ],
          "contourcarpet": [
           {
            "colorbar": {
             "outlinewidth": 0,
             "ticks": ""
            },
            "type": "contourcarpet"
           }
          ],
          "heatmap": [
           {
            "colorbar": {
             "outlinewidth": 0,
             "ticks": ""
            },
            "colorscale": [
             [
              0,
              "#0d0887"
             ],
             [
              0.1111111111111111,
              "#46039f"
             ],
             [
              0.2222222222222222,
              "#7201a8"
             ],
             [
              0.3333333333333333,
              "#9c179e"
             ],
             [
              0.4444444444444444,
              "#bd3786"
             ],
             [
              0.5555555555555556,
              "#d8576b"
             ],
             [
              0.6666666666666666,
              "#ed7953"
             ],
             [
              0.7777777777777778,
              "#fb9f3a"
             ],
             [
              0.8888888888888888,
              "#fdca26"
             ],
             [
              1,
              "#f0f921"
             ]
            ],
            "type": "heatmap"
           }
          ],
          "heatmapgl": [
           {
            "colorbar": {
             "outlinewidth": 0,
             "ticks": ""
            },
            "colorscale": [
             [
              0,
              "#0d0887"
             ],
             [
              0.1111111111111111,
              "#46039f"
             ],
             [
              0.2222222222222222,
              "#7201a8"
             ],
             [
              0.3333333333333333,
              "#9c179e"
             ],
             [
              0.4444444444444444,
              "#bd3786"
             ],
             [
              0.5555555555555556,
              "#d8576b"
             ],
             [
              0.6666666666666666,
              "#ed7953"
             ],
             [
              0.7777777777777778,
              "#fb9f3a"
             ],
             [
              0.8888888888888888,
              "#fdca26"
             ],
             [
              1,
              "#f0f921"
             ]
            ],
            "type": "heatmapgl"
           }
          ],
          "histogram": [
           {
            "marker": {
             "colorbar": {
              "outlinewidth": 0,
              "ticks": ""
             }
            },
            "type": "histogram"
           }
          ],
          "histogram2d": [
           {
            "colorbar": {
             "outlinewidth": 0,
             "ticks": ""
            },
            "colorscale": [
             [
              0,
              "#0d0887"
             ],
             [
              0.1111111111111111,
              "#46039f"
             ],
             [
              0.2222222222222222,
              "#7201a8"
             ],
             [
              0.3333333333333333,
              "#9c179e"
             ],
             [
              0.4444444444444444,
              "#bd3786"
             ],
             [
              0.5555555555555556,
              "#d8576b"
             ],
             [
              0.6666666666666666,
              "#ed7953"
             ],
             [
              0.7777777777777778,
              "#fb9f3a"
             ],
             [
              0.8888888888888888,
              "#fdca26"
             ],
             [
              1,
              "#f0f921"
             ]
            ],
            "type": "histogram2d"
           }
          ],
          "histogram2dcontour": [
           {
            "colorbar": {
             "outlinewidth": 0,
             "ticks": ""
            },
            "colorscale": [
             [
              0,
              "#0d0887"
             ],
             [
              0.1111111111111111,
              "#46039f"
             ],
             [
              0.2222222222222222,
              "#7201a8"
             ],
             [
              0.3333333333333333,
              "#9c179e"
             ],
             [
              0.4444444444444444,
              "#bd3786"
             ],
             [
              0.5555555555555556,
              "#d8576b"
             ],
             [
              0.6666666666666666,
              "#ed7953"
             ],
             [
              0.7777777777777778,
              "#fb9f3a"
             ],
             [
              0.8888888888888888,
              "#fdca26"
             ],
             [
              1,
              "#f0f921"
             ]
            ],
            "type": "histogram2dcontour"
           }
          ],
          "mesh3d": [
           {
            "colorbar": {
             "outlinewidth": 0,
             "ticks": ""
            },
            "type": "mesh3d"
           }
          ],
          "parcoords": [
           {
            "line": {
             "colorbar": {
              "outlinewidth": 0,
              "ticks": ""
             }
            },
            "type": "parcoords"
           }
          ],
          "pie": [
           {
            "automargin": true,
            "type": "pie"
           }
          ],
          "scatter": [
           {
            "marker": {
             "colorbar": {
              "outlinewidth": 0,
              "ticks": ""
             }
            },
            "type": "scatter"
           }
          ],
          "scatter3d": [
           {
            "line": {
             "colorbar": {
              "outlinewidth": 0,
              "ticks": ""
             }
            },
            "marker": {
             "colorbar": {
              "outlinewidth": 0,
              "ticks": ""
             }
            },
            "type": "scatter3d"
           }
          ],
          "scattercarpet": [
           {
            "marker": {
             "colorbar": {
              "outlinewidth": 0,
              "ticks": ""
             }
            },
            "type": "scattercarpet"
           }
          ],
          "scattergeo": [
           {
            "marker": {
             "colorbar": {
              "outlinewidth": 0,
              "ticks": ""
             }
            },
            "type": "scattergeo"
           }
          ],
          "scattergl": [
           {
            "marker": {
             "colorbar": {
              "outlinewidth": 0,
              "ticks": ""
             }
            },
            "type": "scattergl"
           }
          ],
          "scattermapbox": [
           {
            "marker": {
             "colorbar": {
              "outlinewidth": 0,
              "ticks": ""
             }
            },
            "type": "scattermapbox"
           }
          ],
          "scatterpolar": [
           {
            "marker": {
             "colorbar": {
              "outlinewidth": 0,
              "ticks": ""
             }
            },
            "type": "scatterpolar"
           }
          ],
          "scatterpolargl": [
           {
            "marker": {
             "colorbar": {
              "outlinewidth": 0,
              "ticks": ""
             }
            },
            "type": "scatterpolargl"
           }
          ],
          "scatterternary": [
           {
            "marker": {
             "colorbar": {
              "outlinewidth": 0,
              "ticks": ""
             }
            },
            "type": "scatterternary"
           }
          ],
          "surface": [
           {
            "colorbar": {
             "outlinewidth": 0,
             "ticks": ""
            },
            "colorscale": [
             [
              0,
              "#0d0887"
             ],
             [
              0.1111111111111111,
              "#46039f"
             ],
             [
              0.2222222222222222,
              "#7201a8"
             ],
             [
              0.3333333333333333,
              "#9c179e"
             ],
             [
              0.4444444444444444,
              "#bd3786"
             ],
             [
              0.5555555555555556,
              "#d8576b"
             ],
             [
              0.6666666666666666,
              "#ed7953"
             ],
             [
              0.7777777777777778,
              "#fb9f3a"
             ],
             [
              0.8888888888888888,
              "#fdca26"
             ],
             [
              1,
              "#f0f921"
             ]
            ],
            "type": "surface"
           }
          ],
          "table": [
           {
            "cells": {
             "fill": {
              "color": "#EBF0F8"
             },
             "line": {
              "color": "white"
             }
            },
            "header": {
             "fill": {
              "color": "#C8D4E3"
             },
             "line": {
              "color": "white"
             }
            },
            "type": "table"
           }
          ]
         },
         "layout": {
          "annotationdefaults": {
           "arrowcolor": "#2a3f5f",
           "arrowhead": 0,
           "arrowwidth": 1
          },
          "autotypenumbers": "strict",
          "coloraxis": {
           "colorbar": {
            "outlinewidth": 0,
            "ticks": ""
           }
          },
          "colorscale": {
           "diverging": [
            [
             0,
             "#8e0152"
            ],
            [
             0.1,
             "#c51b7d"
            ],
            [
             0.2,
             "#de77ae"
            ],
            [
             0.3,
             "#f1b6da"
            ],
            [
             0.4,
             "#fde0ef"
            ],
            [
             0.5,
             "#f7f7f7"
            ],
            [
             0.6,
             "#e6f5d0"
            ],
            [
             0.7,
             "#b8e186"
            ],
            [
             0.8,
             "#7fbc41"
            ],
            [
             0.9,
             "#4d9221"
            ],
            [
             1,
             "#276419"
            ]
           ],
           "sequential": [
            [
             0,
             "#0d0887"
            ],
            [
             0.1111111111111111,
             "#46039f"
            ],
            [
             0.2222222222222222,
             "#7201a8"
            ],
            [
             0.3333333333333333,
             "#9c179e"
            ],
            [
             0.4444444444444444,
             "#bd3786"
            ],
            [
             0.5555555555555556,
             "#d8576b"
            ],
            [
             0.6666666666666666,
             "#ed7953"
            ],
            [
             0.7777777777777778,
             "#fb9f3a"
            ],
            [
             0.8888888888888888,
             "#fdca26"
            ],
            [
             1,
             "#f0f921"
            ]
           ],
           "sequentialminus": [
            [
             0,
             "#0d0887"
            ],
            [
             0.1111111111111111,
             "#46039f"
            ],
            [
             0.2222222222222222,
             "#7201a8"
            ],
            [
             0.3333333333333333,
             "#9c179e"
            ],
            [
             0.4444444444444444,
             "#bd3786"
            ],
            [
             0.5555555555555556,
             "#d8576b"
            ],
            [
             0.6666666666666666,
             "#ed7953"
            ],
            [
             0.7777777777777778,
             "#fb9f3a"
            ],
            [
             0.8888888888888888,
             "#fdca26"
            ],
            [
             1,
             "#f0f921"
            ]
           ]
          },
          "colorway": [
           "#636efa",
           "#EF553B",
           "#00cc96",
           "#ab63fa",
           "#FFA15A",
           "#19d3f3",
           "#FF6692",
           "#B6E880",
           "#FF97FF",
           "#FECB52"
          ],
          "font": {
           "color": "#2a3f5f"
          },
          "geo": {
           "bgcolor": "white",
           "lakecolor": "white",
           "landcolor": "white",
           "showlakes": true,
           "showland": true,
           "subunitcolor": "#C8D4E3"
          },
          "hoverlabel": {
           "align": "left"
          },
          "hovermode": "closest",
          "mapbox": {
           "style": "light"
          },
          "paper_bgcolor": "white",
          "plot_bgcolor": "white",
          "polar": {
           "angularaxis": {
            "gridcolor": "#EBF0F8",
            "linecolor": "#EBF0F8",
            "ticks": ""
           },
           "bgcolor": "white",
           "radialaxis": {
            "gridcolor": "#EBF0F8",
            "linecolor": "#EBF0F8",
            "ticks": ""
           }
          },
          "scene": {
           "xaxis": {
            "backgroundcolor": "white",
            "gridcolor": "#DFE8F3",
            "gridwidth": 2,
            "linecolor": "#EBF0F8",
            "showbackground": true,
            "ticks": "",
            "zerolinecolor": "#EBF0F8"
           },
           "yaxis": {
            "backgroundcolor": "white",
            "gridcolor": "#DFE8F3",
            "gridwidth": 2,
            "linecolor": "#EBF0F8",
            "showbackground": true,
            "ticks": "",
            "zerolinecolor": "#EBF0F8"
           },
           "zaxis": {
            "backgroundcolor": "white",
            "gridcolor": "#DFE8F3",
            "gridwidth": 2,
            "linecolor": "#EBF0F8",
            "showbackground": true,
            "ticks": "",
            "zerolinecolor": "#EBF0F8"
           }
          },
          "shapedefaults": {
           "line": {
            "color": "#2a3f5f"
           }
          },
          "ternary": {
           "aaxis": {
            "gridcolor": "#DFE8F3",
            "linecolor": "#A2B1C6",
            "ticks": ""
           },
           "baxis": {
            "gridcolor": "#DFE8F3",
            "linecolor": "#A2B1C6",
            "ticks": ""
           },
           "bgcolor": "white",
           "caxis": {
            "gridcolor": "#DFE8F3",
            "linecolor": "#A2B1C6",
            "ticks": ""
           }
          },
          "title": {
           "x": 0.05
          },
          "xaxis": {
           "automargin": true,
           "gridcolor": "#EBF0F8",
           "linecolor": "#EBF0F8",
           "ticks": "",
           "title": {
            "standoff": 15
           },
           "zerolinecolor": "#EBF0F8",
           "zerolinewidth": 2
          },
          "yaxis": {
           "automargin": true,
           "gridcolor": "#EBF0F8",
           "linecolor": "#EBF0F8",
           "ticks": "",
           "title": {
            "standoff": 15
           },
           "zerolinecolor": "#EBF0F8",
           "zerolinewidth": 2
          }
         }
        },
        "title": {
         "text": "Crimes (2015 - 2018)"
        },
        "xaxis": {
         "anchor": "y",
         "domain": [
          0,
          1
         ],
         "showgrid": false,
         "title": {
          "text": "crime type"
         }
        },
        "yaxis": {
         "anchor": "x",
         "domain": [
          0,
          1
         ],
         "title": {
          "text": "Crime Rate"
         }
        }
       }
      }
     },
     "metadata": {}
    }
   ],
   "source": [
    "crimes = df.crime_type.value_counts()\n",
    "bar_plot(\"Crimes (2015 - 2018)\", dict(index = \"crime type\", y =  \"Crime Rate\"), crimes.index, crimes.values, crimes)\n"
   ]
  },
  {
   "cell_type": "code",
   "execution_count": 89,
   "metadata": {},
   "outputs": [
    {
     "output_type": "execute_result",
     "data": {
      "text/plain": [
       "Theft          105696\n",
       "Burglary        18607\n",
       "Agg Assault      8539\n",
       "Auto Theft       8486\n",
       "Robbery          3986\n",
       "Rape             2855\n",
       "Murder            118\n",
       "Name: crime_type, dtype: int64"
      ]
     },
     "metadata": {},
     "execution_count": 89
    }
   ],
   "source": [
    "crimes"
   ]
  },
  {
   "cell_type": "code",
   "execution_count": 72,
   "metadata": {},
   "outputs": [],
   "source": [
    "# # let's fix the districts  \n",
    "fix_distircts = { \n",
    "\n",
    "    \"1.0\":\"1\",\n",
    "    \"2.0\":\"2\",\n",
    "    \"3.0\":\"3\",\n",
    "    \"4.0\":\"4\",\n",
    "    \"5.0\":\"5\",\n",
    "    \"6.0\":\"6\",\n",
    "    \"7.0\":\"7\",\n",
    "    \"8.0\":\"8\",\n",
    "    \"9.0\":\"9\",\n",
    "    \"10.0\":\"10\",\n",
    "    \"Austin Zoo\":     \"Austin Zoo\",\n",
    "    \"Cedar Park\" :      \"Cedar Park\",\n",
    "    \"Lakeway\" :          \"Lakeway\",\n",
    "    \"MANOR\"   :          \"MANOR\",\n",
    "    \"Manchaca\" :          \"Manchaca\",\n",
    "    \"PFLUGERVILLE\" :    \"PFLUGERVILLE\",\n",
    "    \"Round Rock\"   :      \"Round Rock\",\n",
    "    \"UNKNOWN\"     :      \"UNKNOWN\",\n",
    "    \"WEST LAKE\"    :    \"WEST LAKE\"\n",
    "}"
   ]
  },
  {
   "cell_type": "code",
   "execution_count": 73,
   "metadata": {},
   "outputs": [],
   "source": [
    "df.council_district = df.council_district.map(fix_distircts)"
   ]
  },
  {
   "cell_type": "code",
   "execution_count": 107,
   "metadata": {},
   "outputs": [
    {
     "output_type": "execute_result",
     "data": {
      "text/plain": [
       "council_district\n",
       "9               3258.000000\n",
       "4               2840.142857\n",
       "3               2797.571429\n",
       "7               2496.285714\n",
       "1               1554.428571\n",
       "10               921.857143\n",
       "5                542.428571\n",
       "WEST LAKE        488.285714\n",
       "6                420.142857\n",
       "Cedar Park       199.142857\n",
       "PFLUGERVILLE     114.714286\n",
       "UNKNOWN           86.857143\n",
       "8                 80.857143\n",
       "Austin Zoo        54.428571\n",
       "MANOR             24.428571\n",
       "2                  7.857143\n",
       "Manchaca           6.714286\n",
       "Round Rock         1.000000\n",
       "Lakeway            0.428571\n",
       "dtype: float64"
      ]
     },
     "metadata": {},
     "execution_count": 107
    }
   ],
   "source": [
    "crime_per_districs = pd.crosstab(df.crime_type, df.council_district).mean().sort_values(ascending = False)\n",
    "crime_per_districs"
   ]
  },
  {
   "cell_type": "markdown",
   "metadata": {},
   "source": [
    "# 3 what districts have most crimes \n"
   ]
  },
  {
   "cell_type": "code",
   "execution_count": 108,
   "metadata": {},
   "outputs": [
    {
     "output_type": "display_data",
     "data": {
      "application/vnd.plotly.v1+json": {
       "config": {
        "plotlyServerURL": "https://plot.ly"
       },
       "data": [
        {
         "alignmentgroup": "True",
         "hovertemplate": "council_district=%{x}<br>Crime Rate=%{y}<br>text=%{text}<extra></extra>",
         "legendgroup": "",
         "marker": {
          "color": "#00a2ed"
         },
         "name": "",
         "offsetgroup": "",
         "orientation": "v",
         "showlegend": false,
         "text": [
          3258,
          2840.1428571428573,
          2797.5714285714284,
          2496.285714285714,
          1554.4285714285713,
          921.8571428571429,
          542.4285714285714,
          488.2857142857143,
          420.14285714285717,
          199.14285714285714,
          114.71428571428571,
          86.85714285714286,
          80.85714285714286,
          54.42857142857143,
          24.428571428571427,
          7.857142857142857,
          6.714285714285714,
          1,
          0.42857142857142855
         ],
         "textposition": "inside",
         "texttemplate": "%{text:.2s}",
         "type": "bar",
         "x": [
          "9",
          "4",
          "3",
          "7",
          "1",
          "10",
          "5",
          "WEST LAKE",
          "6",
          "Cedar Park",
          "PFLUGERVILLE",
          "UNKNOWN",
          "8",
          "Austin Zoo",
          "MANOR",
          "2",
          "Manchaca",
          "Round Rock",
          "Lakeway"
         ],
         "xaxis": "x",
         "y": [
          3258,
          2840.1428571428573,
          2797.5714285714284,
          2496.285714285714,
          1554.4285714285713,
          921.8571428571429,
          542.4285714285714,
          488.2857142857143,
          420.14285714285717,
          199.14285714285714,
          114.71428571428571,
          86.85714285714286,
          80.85714285714286,
          54.42857142857143,
          24.428571428571427,
          7.857142857142857,
          6.714285714285714,
          1,
          0.42857142857142855
         ],
         "yaxis": "y"
        }
       ],
       "layout": {
        "barmode": "relative",
        "legend": {
         "tracegroupgap": 0
        },
        "template": {
         "data": {
          "bar": [
           {
            "error_x": {
             "color": "#2a3f5f"
            },
            "error_y": {
             "color": "#2a3f5f"
            },
            "marker": {
             "line": {
              "color": "white",
              "width": 0.5
             }
            },
            "type": "bar"
           }
          ],
          "barpolar": [
           {
            "marker": {
             "line": {
              "color": "white",
              "width": 0.5
             }
            },
            "type": "barpolar"
           }
          ],
          "carpet": [
           {
            "aaxis": {
             "endlinecolor": "#2a3f5f",
             "gridcolor": "#C8D4E3",
             "linecolor": "#C8D4E3",
             "minorgridcolor": "#C8D4E3",
             "startlinecolor": "#2a3f5f"
            },
            "baxis": {
             "endlinecolor": "#2a3f5f",
             "gridcolor": "#C8D4E3",
             "linecolor": "#C8D4E3",
             "minorgridcolor": "#C8D4E3",
             "startlinecolor": "#2a3f5f"
            },
            "type": "carpet"
           }
          ],
          "choropleth": [
           {
            "colorbar": {
             "outlinewidth": 0,
             "ticks": ""
            },
            "type": "choropleth"
           }
          ],
          "contour": [
           {
            "colorbar": {
             "outlinewidth": 0,
             "ticks": ""
            },
            "colorscale": [
             [
              0,
              "#0d0887"
             ],
             [
              0.1111111111111111,
              "#46039f"
             ],
             [
              0.2222222222222222,
              "#7201a8"
             ],
             [
              0.3333333333333333,
              "#9c179e"
             ],
             [
              0.4444444444444444,
              "#bd3786"
             ],
             [
              0.5555555555555556,
              "#d8576b"
             ],
             [
              0.6666666666666666,
              "#ed7953"
             ],
             [
              0.7777777777777778,
              "#fb9f3a"
             ],
             [
              0.8888888888888888,
              "#fdca26"
             ],
             [
              1,
              "#f0f921"
             ]
            ],
            "type": "contour"
           }
          ],
          "contourcarpet": [
           {
            "colorbar": {
             "outlinewidth": 0,
             "ticks": ""
            },
            "type": "contourcarpet"
           }
          ],
          "heatmap": [
           {
            "colorbar": {
             "outlinewidth": 0,
             "ticks": ""
            },
            "colorscale": [
             [
              0,
              "#0d0887"
             ],
             [
              0.1111111111111111,
              "#46039f"
             ],
             [
              0.2222222222222222,
              "#7201a8"
             ],
             [
              0.3333333333333333,
              "#9c179e"
             ],
             [
              0.4444444444444444,
              "#bd3786"
             ],
             [
              0.5555555555555556,
              "#d8576b"
             ],
             [
              0.6666666666666666,
              "#ed7953"
             ],
             [
              0.7777777777777778,
              "#fb9f3a"
             ],
             [
              0.8888888888888888,
              "#fdca26"
             ],
             [
              1,
              "#f0f921"
             ]
            ],
            "type": "heatmap"
           }
          ],
          "heatmapgl": [
           {
            "colorbar": {
             "outlinewidth": 0,
             "ticks": ""
            },
            "colorscale": [
             [
              0,
              "#0d0887"
             ],
             [
              0.1111111111111111,
              "#46039f"
             ],
             [
              0.2222222222222222,
              "#7201a8"
             ],
             [
              0.3333333333333333,
              "#9c179e"
             ],
             [
              0.4444444444444444,
              "#bd3786"
             ],
             [
              0.5555555555555556,
              "#d8576b"
             ],
             [
              0.6666666666666666,
              "#ed7953"
             ],
             [
              0.7777777777777778,
              "#fb9f3a"
             ],
             [
              0.8888888888888888,
              "#fdca26"
             ],
             [
              1,
              "#f0f921"
             ]
            ],
            "type": "heatmapgl"
           }
          ],
          "histogram": [
           {
            "marker": {
             "colorbar": {
              "outlinewidth": 0,
              "ticks": ""
             }
            },
            "type": "histogram"
           }
          ],
          "histogram2d": [
           {
            "colorbar": {
             "outlinewidth": 0,
             "ticks": ""
            },
            "colorscale": [
             [
              0,
              "#0d0887"
             ],
             [
              0.1111111111111111,
              "#46039f"
             ],
             [
              0.2222222222222222,
              "#7201a8"
             ],
             [
              0.3333333333333333,
              "#9c179e"
             ],
             [
              0.4444444444444444,
              "#bd3786"
             ],
             [
              0.5555555555555556,
              "#d8576b"
             ],
             [
              0.6666666666666666,
              "#ed7953"
             ],
             [
              0.7777777777777778,
              "#fb9f3a"
             ],
             [
              0.8888888888888888,
              "#fdca26"
             ],
             [
              1,
              "#f0f921"
             ]
            ],
            "type": "histogram2d"
           }
          ],
          "histogram2dcontour": [
           {
            "colorbar": {
             "outlinewidth": 0,
             "ticks": ""
            },
            "colorscale": [
             [
              0,
              "#0d0887"
             ],
             [
              0.1111111111111111,
              "#46039f"
             ],
             [
              0.2222222222222222,
              "#7201a8"
             ],
             [
              0.3333333333333333,
              "#9c179e"
             ],
             [
              0.4444444444444444,
              "#bd3786"
             ],
             [
              0.5555555555555556,
              "#d8576b"
             ],
             [
              0.6666666666666666,
              "#ed7953"
             ],
             [
              0.7777777777777778,
              "#fb9f3a"
             ],
             [
              0.8888888888888888,
              "#fdca26"
             ],
             [
              1,
              "#f0f921"
             ]
            ],
            "type": "histogram2dcontour"
           }
          ],
          "mesh3d": [
           {
            "colorbar": {
             "outlinewidth": 0,
             "ticks": ""
            },
            "type": "mesh3d"
           }
          ],
          "parcoords": [
           {
            "line": {
             "colorbar": {
              "outlinewidth": 0,
              "ticks": ""
             }
            },
            "type": "parcoords"
           }
          ],
          "pie": [
           {
            "automargin": true,
            "type": "pie"
           }
          ],
          "scatter": [
           {
            "marker": {
             "colorbar": {
              "outlinewidth": 0,
              "ticks": ""
             }
            },
            "type": "scatter"
           }
          ],
          "scatter3d": [
           {
            "line": {
             "colorbar": {
              "outlinewidth": 0,
              "ticks": ""
             }
            },
            "marker": {
             "colorbar": {
              "outlinewidth": 0,
              "ticks": ""
             }
            },
            "type": "scatter3d"
           }
          ],
          "scattercarpet": [
           {
            "marker": {
             "colorbar": {
              "outlinewidth": 0,
              "ticks": ""
             }
            },
            "type": "scattercarpet"
           }
          ],
          "scattergeo": [
           {
            "marker": {
             "colorbar": {
              "outlinewidth": 0,
              "ticks": ""
             }
            },
            "type": "scattergeo"
           }
          ],
          "scattergl": [
           {
            "marker": {
             "colorbar": {
              "outlinewidth": 0,
              "ticks": ""
             }
            },
            "type": "scattergl"
           }
          ],
          "scattermapbox": [
           {
            "marker": {
             "colorbar": {
              "outlinewidth": 0,
              "ticks": ""
             }
            },
            "type": "scattermapbox"
           }
          ],
          "scatterpolar": [
           {
            "marker": {
             "colorbar": {
              "outlinewidth": 0,
              "ticks": ""
             }
            },
            "type": "scatterpolar"
           }
          ],
          "scatterpolargl": [
           {
            "marker": {
             "colorbar": {
              "outlinewidth": 0,
              "ticks": ""
             }
            },
            "type": "scatterpolargl"
           }
          ],
          "scatterternary": [
           {
            "marker": {
             "colorbar": {
              "outlinewidth": 0,
              "ticks": ""
             }
            },
            "type": "scatterternary"
           }
          ],
          "surface": [
           {
            "colorbar": {
             "outlinewidth": 0,
             "ticks": ""
            },
            "colorscale": [
             [
              0,
              "#0d0887"
             ],
             [
              0.1111111111111111,
              "#46039f"
             ],
             [
              0.2222222222222222,
              "#7201a8"
             ],
             [
              0.3333333333333333,
              "#9c179e"
             ],
             [
              0.4444444444444444,
              "#bd3786"
             ],
             [
              0.5555555555555556,
              "#d8576b"
             ],
             [
              0.6666666666666666,
              "#ed7953"
             ],
             [
              0.7777777777777778,
              "#fb9f3a"
             ],
             [
              0.8888888888888888,
              "#fdca26"
             ],
             [
              1,
              "#f0f921"
             ]
            ],
            "type": "surface"
           }
          ],
          "table": [
           {
            "cells": {
             "fill": {
              "color": "#EBF0F8"
             },
             "line": {
              "color": "white"
             }
            },
            "header": {
             "fill": {
              "color": "#C8D4E3"
             },
             "line": {
              "color": "white"
             }
            },
            "type": "table"
           }
          ]
         },
         "layout": {
          "annotationdefaults": {
           "arrowcolor": "#2a3f5f",
           "arrowhead": 0,
           "arrowwidth": 1
          },
          "autotypenumbers": "strict",
          "coloraxis": {
           "colorbar": {
            "outlinewidth": 0,
            "ticks": ""
           }
          },
          "colorscale": {
           "diverging": [
            [
             0,
             "#8e0152"
            ],
            [
             0.1,
             "#c51b7d"
            ],
            [
             0.2,
             "#de77ae"
            ],
            [
             0.3,
             "#f1b6da"
            ],
            [
             0.4,
             "#fde0ef"
            ],
            [
             0.5,
             "#f7f7f7"
            ],
            [
             0.6,
             "#e6f5d0"
            ],
            [
             0.7,
             "#b8e186"
            ],
            [
             0.8,
             "#7fbc41"
            ],
            [
             0.9,
             "#4d9221"
            ],
            [
             1,
             "#276419"
            ]
           ],
           "sequential": [
            [
             0,
             "#0d0887"
            ],
            [
             0.1111111111111111,
             "#46039f"
            ],
            [
             0.2222222222222222,
             "#7201a8"
            ],
            [
             0.3333333333333333,
             "#9c179e"
            ],
            [
             0.4444444444444444,
             "#bd3786"
            ],
            [
             0.5555555555555556,
             "#d8576b"
            ],
            [
             0.6666666666666666,
             "#ed7953"
            ],
            [
             0.7777777777777778,
             "#fb9f3a"
            ],
            [
             0.8888888888888888,
             "#fdca26"
            ],
            [
             1,
             "#f0f921"
            ]
           ],
           "sequentialminus": [
            [
             0,
             "#0d0887"
            ],
            [
             0.1111111111111111,
             "#46039f"
            ],
            [
             0.2222222222222222,
             "#7201a8"
            ],
            [
             0.3333333333333333,
             "#9c179e"
            ],
            [
             0.4444444444444444,
             "#bd3786"
            ],
            [
             0.5555555555555556,
             "#d8576b"
            ],
            [
             0.6666666666666666,
             "#ed7953"
            ],
            [
             0.7777777777777778,
             "#fb9f3a"
            ],
            [
             0.8888888888888888,
             "#fdca26"
            ],
            [
             1,
             "#f0f921"
            ]
           ]
          },
          "colorway": [
           "#636efa",
           "#EF553B",
           "#00cc96",
           "#ab63fa",
           "#FFA15A",
           "#19d3f3",
           "#FF6692",
           "#B6E880",
           "#FF97FF",
           "#FECB52"
          ],
          "font": {
           "color": "#2a3f5f"
          },
          "geo": {
           "bgcolor": "white",
           "lakecolor": "white",
           "landcolor": "white",
           "showlakes": true,
           "showland": true,
           "subunitcolor": "#C8D4E3"
          },
          "hoverlabel": {
           "align": "left"
          },
          "hovermode": "closest",
          "mapbox": {
           "style": "light"
          },
          "paper_bgcolor": "white",
          "plot_bgcolor": "white",
          "polar": {
           "angularaxis": {
            "gridcolor": "#EBF0F8",
            "linecolor": "#EBF0F8",
            "ticks": ""
           },
           "bgcolor": "white",
           "radialaxis": {
            "gridcolor": "#EBF0F8",
            "linecolor": "#EBF0F8",
            "ticks": ""
           }
          },
          "scene": {
           "xaxis": {
            "backgroundcolor": "white",
            "gridcolor": "#DFE8F3",
            "gridwidth": 2,
            "linecolor": "#EBF0F8",
            "showbackground": true,
            "ticks": "",
            "zerolinecolor": "#EBF0F8"
           },
           "yaxis": {
            "backgroundcolor": "white",
            "gridcolor": "#DFE8F3",
            "gridwidth": 2,
            "linecolor": "#EBF0F8",
            "showbackground": true,
            "ticks": "",
            "zerolinecolor": "#EBF0F8"
           },
           "zaxis": {
            "backgroundcolor": "white",
            "gridcolor": "#DFE8F3",
            "gridwidth": 2,
            "linecolor": "#EBF0F8",
            "showbackground": true,
            "ticks": "",
            "zerolinecolor": "#EBF0F8"
           }
          },
          "shapedefaults": {
           "line": {
            "color": "#2a3f5f"
           }
          },
          "ternary": {
           "aaxis": {
            "gridcolor": "#DFE8F3",
            "linecolor": "#A2B1C6",
            "ticks": ""
           },
           "baxis": {
            "gridcolor": "#DFE8F3",
            "linecolor": "#A2B1C6",
            "ticks": ""
           },
           "bgcolor": "white",
           "caxis": {
            "gridcolor": "#DFE8F3",
            "linecolor": "#A2B1C6",
            "ticks": ""
           }
          },
          "title": {
           "x": 0.05
          },
          "xaxis": {
           "automargin": true,
           "gridcolor": "#EBF0F8",
           "linecolor": "#EBF0F8",
           "ticks": "",
           "title": {
            "standoff": 15
           },
           "zerolinecolor": "#EBF0F8",
           "zerolinewidth": 2
          },
          "yaxis": {
           "automargin": true,
           "gridcolor": "#EBF0F8",
           "linecolor": "#EBF0F8",
           "ticks": "",
           "title": {
            "standoff": 15
           },
           "zerolinecolor": "#EBF0F8",
           "zerolinewidth": 2
          }
         }
        },
        "title": {
         "text": "Rate of Crime in Districts"
        },
        "xaxis": {
         "anchor": "y",
         "domain": [
          0,
          1
         ],
         "showgrid": false,
         "title": {
          "text": "council_district"
         }
        },
        "yaxis": {
         "anchor": "x",
         "domain": [
          0,
          1
         ],
         "title": {
          "text": "Crime Rate"
         }
        }
       }
      }
     },
     "metadata": {}
    }
   ],
   "source": [
    "bar_plot(\"Rate of Crime in Districts\", dict(index = \"Council District\", y =  \"Crime Rate\"), crime_per_districs.index, np.sort(crime_per_districs.values)[::-1], crime_per_districs)"
   ]
  },
  {
   "cell_type": "code",
   "execution_count": 91,
   "metadata": {},
   "outputs": [
    {
     "output_type": "execute_result",
     "data": {
      "text/plain": [
       "Theft          6686\n",
       "Burglary       1786\n",
       "Agg Assault    1089\n",
       "Auto Theft      620\n",
       "Robbery         434\n",
       "Rape            246\n",
       "Murder           20\n",
       "Name: crime_type, dtype: int64"
      ]
     },
     "metadata": {},
     "execution_count": 91
    }
   ],
   "source": [
    "df.query(\"council_district == '1'\")[\"crime_type\"].value_counts()"
   ]
  },
  {
   "cell_type": "code",
   "execution_count": 92,
   "metadata": {},
   "outputs": [
    {
     "output_type": "execute_result",
     "data": {
      "text/plain": [
       "Theft          5058\n",
       "Burglary        815\n",
       "Auto Theft      261\n",
       "Agg Assault     179\n",
       "Rape             80\n",
       "Robbery          58\n",
       "Murder            2\n",
       "Name: crime_type, dtype: int64"
      ]
     },
     "metadata": {},
     "execution_count": 92
    }
   ],
   "source": [
    "df.query(\"council_district == '10'\")[\"crime_type\"].value_counts()"
   ]
  },
  {
   "cell_type": "code",
   "execution_count": 94,
   "metadata": {},
   "outputs": [
    {
     "output_type": "execute_result",
     "data": {
      "text/plain": [
       "Theft          36\n",
       "Burglary       13\n",
       "Agg Assault     5\n",
       "Robbery         1\n",
       "Name: crime_type, dtype: int64"
      ]
     },
     "metadata": {},
     "execution_count": 94
    }
   ],
   "source": [
    "df.query(\"council_district == '2'\")[\"crime_type\"].value_counts()"
   ]
  },
  {
   "cell_type": "code",
   "execution_count": 95,
   "metadata": {},
   "outputs": [
    {
     "output_type": "execute_result",
     "data": {
      "text/plain": [
       "Theft          13139\n",
       "Burglary        2526\n",
       "Agg Assault     1400\n",
       "Auto Theft      1266\n",
       "Robbery          830\n",
       "Rape             411\n",
       "Murder            11\n",
       "Name: crime_type, dtype: int64"
      ]
     },
     "metadata": {},
     "execution_count": 95
    }
   ],
   "source": [
    "df.query(\"council_district == '3'\")[\"crime_type\"].value_counts()"
   ]
  },
  {
   "cell_type": "code",
   "execution_count": 96,
   "metadata": {},
   "outputs": [
    {
     "output_type": "execute_result",
     "data": {
      "text/plain": [
       "Theft          12735\n",
       "Burglary        2825\n",
       "Agg Assault     1542\n",
       "Auto Theft      1315\n",
       "Robbery          987\n",
       "Rape             445\n",
       "Murder            32\n",
       "Name: crime_type, dtype: int64"
      ]
     },
     "metadata": {},
     "execution_count": 96
    }
   ],
   "source": [
    "df.query(\"council_district == '4'\")[\"crime_type\"].value_counts()"
   ]
  },
  {
   "cell_type": "code",
   "execution_count": 97,
   "metadata": {},
   "outputs": [
    {
     "output_type": "execute_result",
     "data": {
      "text/plain": [
       "Theft          2951\n",
       "Burglary        431\n",
       "Auto Theft      247\n",
       "Agg Assault      92\n",
       "Robbery          51\n",
       "Rape             24\n",
       "Murder            1\n",
       "Name: crime_type, dtype: int64"
      ]
     },
     "metadata": {},
     "execution_count": 97
    }
   ],
   "source": [
    "df.query(\"council_district == '5'\")[\"crime_type\"].value_counts()"
   ]
  },
  {
   "cell_type": "code",
   "execution_count": 98,
   "metadata": {},
   "outputs": [
    {
     "output_type": "execute_result",
     "data": {
      "text/plain": [
       "Theft          2050\n",
       "Burglary        491\n",
       "Auto Theft      162\n",
       "Agg Assault     125\n",
       "Rape             68\n",
       "Robbery          43\n",
       "Murder            2\n",
       "Name: crime_type, dtype: int64"
      ]
     },
     "metadata": {},
     "execution_count": 98
    }
   ],
   "source": [
    "df.query(\"council_district == '6'\")[\"crime_type\"].value_counts()"
   ]
  },
  {
   "cell_type": "code",
   "execution_count": 99,
   "metadata": {},
   "outputs": [
    {
     "output_type": "execute_result",
     "data": {
      "text/plain": [
       "Theft          446\n",
       "Burglary        62\n",
       "Auto Theft      26\n",
       "Agg Assault     17\n",
       "Rape            14\n",
       "Robbery          1\n",
       "Name: crime_type, dtype: int64"
      ]
     },
     "metadata": {},
     "execution_count": 99
    }
   ],
   "source": [
    "df.query(\"council_district == '8'\")[\"crime_type\"].value_counts()"
   ]
  },
  {
   "cell_type": "code",
   "execution_count": 100,
   "metadata": {},
   "outputs": [
    {
     "output_type": "execute_result",
     "data": {
      "text/plain": [
       "Theft          17763\n",
       "Burglary        1951\n",
       "Auto Theft      1194\n",
       "Agg Assault      906\n",
       "Robbery          528\n",
       "Rape             456\n",
       "Murder             8\n",
       "Name: crime_type, dtype: int64"
      ]
     },
     "metadata": {},
     "execution_count": 100
    }
   ],
   "source": [
    "df.query(\"council_district == '9'\")[\"crime_type\"].value_counts()"
   ]
  },
  {
   "cell_type": "code",
   "execution_count": null,
   "metadata": {},
   "outputs": [],
   "source": [
    "# most theft 9 \n",
    "# most agg assualt was area 4 \n",
    "# most rape 9 \n",
    "# most kills 4"
   ]
  }
 ],
 "metadata": {
  "kernelspec": {
   "name": "python385jvsc74a57bd007efdcd4b820c98a756949507a4d29d7862823915ec7477944641bea022f4f62",
   "display_name": "Python 3.8.5 64-bit ('base': conda)"
  },
  "language_info": {
   "codemirror_mode": {
    "name": "ipython",
    "version": 3
   },
   "file_extension": ".py",
   "mimetype": "text/x-python",
   "name": "python",
   "nbconvert_exporter": "python",
   "pygments_lexer": "ipython3",
   "version": "3.8.5"
  }
 },
 "nbformat": 4,
 "nbformat_minor": 4
}