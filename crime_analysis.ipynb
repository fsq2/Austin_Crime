{
 "cells": [
  {
   "cell_type": "code",
   "execution_count": 227,
   "metadata": {},
   "outputs": [],
   "source": [
    "# business question 5Q\n",
    "# 1 - what months/days have the highest crime rate \n",
    "# 2 - what area have most (thieft, BURGLARY, MOTOR VEHICLE THEFT, ROBBERY)  THEFT and check if it domestic \n",
    "# 3 - dose area that have more NARCOTICS cases tend to have more OFFENSE INVOLVING CHILDREN \n",
    "# 4 - OFFENSE INVOLVING CHILDREN are most of it domestic ? \n",
    "# 5 - CRIMINAL DAMAGE rate TO VEHICLE and proprety  \n",
    "# 6 - what month the looting increased \n"
   ]
  },
  {
   "cell_type": "code",
   "execution_count": 228,
   "metadata": {},
   "outputs": [],
   "source": [
    "import pandas as pd \n",
    "import numpy as np \n",
    "import matplotlib.pyplot as plt \n",
    "import seaborn as sns \n",
    "pd.set_option('display.max_columns', None)\n",
    "\n",
    "%matplotlib inline"
   ]
  },
  {
   "cell_type": "markdown",
   "metadata": {},
   "source": [
    "```python\n",
    "def get_data(order = \"date_of_occurrence\"):\n",
    "    '''\n",
    "    get data from Socrata API using sodapy libary \n",
    "    \n",
    "    argu:\n",
    "    \n",
    "    order : specifies the order of results default by date_of_occurrence\n",
    "    '''\n",
    "    from sodapy import Socrata\n",
    "    # Unauthenticated client only works with public data sets. Note 'None'\n",
    "    # in place of application token, and no username or password:\n",
    "    client = Socrata(\"data.cityofchicago.org\", None)\n",
    "    \n",
    "    columns = '''\n",
    "    case_, date_of_occurrence, \n",
    "    block, _iucr, _primary_decsription,\n",
    "    _secondary_description, _location_description, \n",
    "    arrest, domestic,\n",
    "    latitude, longitude\n",
    "    '''\n",
    "    try:\n",
    "        # dictionaries by sodapy.\n",
    "        results = client.get(\"x2n5-8w5q\", select = columns,  order = order,  limit=200809)\n",
    "\n",
    "        # Convert to pandas DataFrame\n",
    "        return pd.DataFrame.from_records(results)\n",
    "    \n",
    "    except Exception as e:\n",
    "        print(e)\n",
    "   ```"
   ]
  },
  {
   "cell_type": "markdown",
   "metadata": {},
   "source": [
    "```\n",
    "df = get_data()\n",
    "```"
   ]
  },
  {
   "cell_type": "markdown",
   "metadata": {},
   "source": [
    "###### saving the data to avoid strict throttling limits.\n",
    "```python\n",
    "df.to_csv(\"some.csv\")\n",
    "```"
   ]
  },
  {
   "cell_type": "code",
   "execution_count": 229,
   "metadata": {},
   "outputs": [],
   "source": [
    "df = pd.read_csv(\"crime_data.csv\")"
   ]
  },
  {
   "cell_type": "code",
   "execution_count": 230,
   "metadata": {},
   "outputs": [
    {
     "data": {
      "text/html": [
       "<div>\n",
       "<style scoped>\n",
       "    .dataframe tbody tr th:only-of-type {\n",
       "        vertical-align: middle;\n",
       "    }\n",
       "\n",
       "    .dataframe tbody tr th {\n",
       "        vertical-align: top;\n",
       "    }\n",
       "\n",
       "    .dataframe thead th {\n",
       "        text-align: right;\n",
       "    }\n",
       "</style>\n",
       "<table border=\"1\" class=\"dataframe\">\n",
       "  <thead>\n",
       "    <tr style=\"text-align: right;\">\n",
       "      <th></th>\n",
       "      <th>Unnamed: 0</th>\n",
       "      <th>case_</th>\n",
       "      <th>date_of_occurrence</th>\n",
       "      <th>block</th>\n",
       "      <th>_iucr</th>\n",
       "      <th>_primary_decsription</th>\n",
       "      <th>_secondary_description</th>\n",
       "      <th>_location_description</th>\n",
       "      <th>arrest</th>\n",
       "      <th>domestic</th>\n",
       "      <th>latitude</th>\n",
       "      <th>longitude</th>\n",
       "    </tr>\n",
       "  </thead>\n",
       "  <tbody>\n",
       "    <tr>\n",
       "      <th>0</th>\n",
       "      <td>0</td>\n",
       "      <td>JD218799</td>\n",
       "      <td>2020-04-23T05:07:00.000</td>\n",
       "      <td>023XX S STEWART AVE</td>\n",
       "      <td>0810</td>\n",
       "      <td>THEFT</td>\n",
       "      <td>OVER $500</td>\n",
       "      <td>PARKING LOT / GARAGE (NON RESIDENTIAL)</td>\n",
       "      <td>N</td>\n",
       "      <td>N</td>\n",
       "      <td>41.850602</td>\n",
       "      <td>-87.635898</td>\n",
       "    </tr>\n",
       "    <tr>\n",
       "      <th>1</th>\n",
       "      <td>1</td>\n",
       "      <td>JD215083</td>\n",
       "      <td>2020-04-23T05:30:00.000</td>\n",
       "      <td>031XX N DAVLIN CT</td>\n",
       "      <td>0486</td>\n",
       "      <td>BATTERY</td>\n",
       "      <td>DOMESTIC BATTERY SIMPLE</td>\n",
       "      <td>APARTMENT</td>\n",
       "      <td>N</td>\n",
       "      <td>Y</td>\n",
       "      <td>41.937743</td>\n",
       "      <td>-87.723740</td>\n",
       "    </tr>\n",
       "    <tr>\n",
       "      <th>2</th>\n",
       "      <td>2</td>\n",
       "      <td>JD215085</td>\n",
       "      <td>2020-04-23T05:33:00.000</td>\n",
       "      <td>104XX S WABASH AVE</td>\n",
       "      <td>1320</td>\n",
       "      <td>CRIMINAL DAMAGE</td>\n",
       "      <td>TO VEHICLE</td>\n",
       "      <td>STREET</td>\n",
       "      <td>N</td>\n",
       "      <td>N</td>\n",
       "      <td>41.704390</td>\n",
       "      <td>-87.622258</td>\n",
       "    </tr>\n",
       "    <tr>\n",
       "      <th>3</th>\n",
       "      <td>3</td>\n",
       "      <td>JD215082</td>\n",
       "      <td>2020-04-23T05:42:00.000</td>\n",
       "      <td>082XX S SOUTH SHORE DR</td>\n",
       "      <td>0820</td>\n",
       "      <td>THEFT</td>\n",
       "      <td>$500 AND UNDER</td>\n",
       "      <td>APARTMENT</td>\n",
       "      <td>N</td>\n",
       "      <td>Y</td>\n",
       "      <td>41.745957</td>\n",
       "      <td>-87.547932</td>\n",
       "    </tr>\n",
       "    <tr>\n",
       "      <th>4</th>\n",
       "      <td>4</td>\n",
       "      <td>JD215137</td>\n",
       "      <td>2020-04-23T05:45:00.000</td>\n",
       "      <td>004XX W 104TH ST</td>\n",
       "      <td>1020</td>\n",
       "      <td>ARSON</td>\n",
       "      <td>BY FIRE</td>\n",
       "      <td>RESIDENCE</td>\n",
       "      <td>N</td>\n",
       "      <td>N</td>\n",
       "      <td>41.705200</td>\n",
       "      <td>-87.634832</td>\n",
       "    </tr>\n",
       "  </tbody>\n",
       "</table>\n",
       "</div>"
      ],
      "text/plain": [
       "   Unnamed: 0     case_       date_of_occurrence                   block  \\\n",
       "0           0  JD218799  2020-04-23T05:07:00.000     023XX S STEWART AVE   \n",
       "1           1  JD215083  2020-04-23T05:30:00.000       031XX N DAVLIN CT   \n",
       "2           2  JD215085  2020-04-23T05:33:00.000      104XX S WABASH AVE   \n",
       "3           3  JD215082  2020-04-23T05:42:00.000  082XX S SOUTH SHORE DR   \n",
       "4           4  JD215137  2020-04-23T05:45:00.000        004XX W 104TH ST   \n",
       "\n",
       "  _iucr _primary_decsription   _secondary_description  \\\n",
       "0  0810                THEFT                OVER $500   \n",
       "1  0486              BATTERY  DOMESTIC BATTERY SIMPLE   \n",
       "2  1320      CRIMINAL DAMAGE               TO VEHICLE   \n",
       "3  0820                THEFT           $500 AND UNDER   \n",
       "4  1020                ARSON                  BY FIRE   \n",
       "\n",
       "                    _location_description arrest domestic   latitude  \\\n",
       "0  PARKING LOT / GARAGE (NON RESIDENTIAL)      N        N  41.850602   \n",
       "1                               APARTMENT      N        Y  41.937743   \n",
       "2                                  STREET      N        N  41.704390   \n",
       "3                               APARTMENT      N        Y  41.745957   \n",
       "4                               RESIDENCE      N        N  41.705200   \n",
       "\n",
       "   longitude  \n",
       "0 -87.635898  \n",
       "1 -87.723740  \n",
       "2 -87.622258  \n",
       "3 -87.547932  \n",
       "4 -87.634832  "
      ]
     },
     "execution_count": 230,
     "metadata": {},
     "output_type": "execute_result"
    }
   ],
   "source": [
    "df.head()"
   ]
  },
  {
   "cell_type": "code",
   "execution_count": 231,
   "metadata": {},
   "outputs": [
    {
     "data": {
      "text/plain": [
       "(200809, 12)"
      ]
     },
     "execution_count": 231,
     "metadata": {},
     "output_type": "execute_result"
    }
   ],
   "source": [
    "df.shape"
   ]
  },
  {
   "cell_type": "code",
   "execution_count": 232,
   "metadata": {},
   "outputs": [
    {
     "name": "stdout",
     "output_type": "stream",
     "text": [
      "<class 'pandas.core.frame.DataFrame'>\n",
      "RangeIndex: 200809 entries, 0 to 200808\n",
      "Data columns (total 12 columns):\n",
      " #   Column                  Non-Null Count   Dtype  \n",
      "---  ------                  --------------   -----  \n",
      " 0   Unnamed: 0              200809 non-null  int64  \n",
      " 1   case_                   200809 non-null  object \n",
      " 2   date_of_occurrence      200809 non-null  object \n",
      " 3   block                   200809 non-null  object \n",
      " 4   _iucr                   200809 non-null  object \n",
      " 5   _primary_decsription    200809 non-null  object \n",
      " 6   _secondary_description  200809 non-null  object \n",
      " 7   _location_description   199727 non-null  object \n",
      " 8   arrest                  200809 non-null  object \n",
      " 9   domestic                200809 non-null  object \n",
      " 10  latitude                198688 non-null  float64\n",
      " 11  longitude               198688 non-null  float64\n",
      "dtypes: float64(2), int64(1), object(9)\n",
      "memory usage: 11.5+ MB\n"
     ]
    }
   ],
   "source": [
    "df.info()"
   ]
  },
  {
   "cell_type": "code",
   "execution_count": 239,
   "metadata": {},
   "outputs": [],
   "source": [
    "# columns to fixing \n",
    "\n",
    "# Unmaed  no need for it \n",
    "df.drop(\"Unnamed: 0\", axis=1, inplace=True)\n",
    "\n",
    "\n",
    "df.date_of_occurrence = pd.to_datetime(df.date_of_occurrence)\n",
    "\n"
   ]
  },
  {
   "cell_type": "code",
   "execution_count": 236,
   "metadata": {},
   "outputs": [
    {
     "data": {
      "image/png": "[encoded data removed]",
      "text/plain": [
       "<Figure size 432x288 with 1 Axes>"
      ]
     },
     "metadata": {
      "needs_background": "light"
     },
     "output_type": "display_data"
    }
   ],
   "source": [
    "df.isnull().mean().mul(100).sort_values(ascending  = True).plot(kind =\"barh\");"
   ]
  },
  {
   "cell_type": "code",
   "execution_count": 263,
   "metadata": {},
   "outputs": [],
   "source": [
    "df[\"year\"] = df.date_of_occurrence.dt.year\n",
    "df[\"month_name\"] = df.date_of_occurrence.dt.month_name()\n",
    "df[\"day_name\"] = df.date_of_occurrence.dt.day_name()\n",
    "df[\"time\"] = df.date_of_occurrence.dt.time"
   ]
  },
  {
   "cell_type": "code",
   "execution_count": 264,
   "metadata": {},
   "outputs": [
    {
     "data": {
      "text/html": [
       "<div>\n",
       "<style scoped>\n",
       "    .dataframe tbody tr th:only-of-type {\n",
       "        vertical-align: middle;\n",
       "    }\n",
       "\n",
       "    .dataframe tbody tr th {\n",
       "        vertical-align: top;\n",
       "    }\n",
       "\n",
       "    .dataframe thead th {\n",
       "        text-align: right;\n",
       "    }\n",
       "</style>\n",
       "<table border=\"1\" class=\"dataframe\">\n",
       "  <thead>\n",
       "    <tr style=\"text-align: right;\">\n",
       "      <th></th>\n",
       "      <th>case_</th>\n",
       "      <th>date_of_occurrence</th>\n",
       "      <th>block</th>\n",
       "      <th>_iucr</th>\n",
       "      <th>_primary_decsription</th>\n",
       "      <th>_secondary_description</th>\n",
       "      <th>_location_description</th>\n",
       "      <th>arrest</th>\n",
       "      <th>domestic</th>\n",
       "      <th>latitude</th>\n",
       "      <th>longitude</th>\n",
       "      <th>day_name</th>\n",
       "      <th>month_name</th>\n",
       "      <th>time</th>\n",
       "      <th>year</th>\n",
       "    </tr>\n",
       "  </thead>\n",
       "  <tbody>\n",
       "    <tr>\n",
       "      <th>0</th>\n",
       "      <td>JD218799</td>\n",
       "      <td>2020-04-23 05:07:00</td>\n",
       "      <td>023XX S STEWART AVE</td>\n",
       "      <td>0810</td>\n",
       "      <td>THEFT</td>\n",
       "      <td>OVER $500</td>\n",
       "      <td>PARKING LOT / GARAGE (NON RESIDENTIAL)</td>\n",
       "      <td>N</td>\n",
       "      <td>N</td>\n",
       "      <td>41.850602</td>\n",
       "      <td>-87.635898</td>\n",
       "      <td>Thursday</td>\n",
       "      <td>April</td>\n",
       "      <td>05:07:00</td>\n",
       "      <td>2020</td>\n",
       "    </tr>\n",
       "    <tr>\n",
       "      <th>1</th>\n",
       "      <td>JD215083</td>\n",
       "      <td>2020-04-23 05:30:00</td>\n",
       "      <td>031XX N DAVLIN CT</td>\n",
       "      <td>0486</td>\n",
       "      <td>BATTERY</td>\n",
       "      <td>DOMESTIC BATTERY SIMPLE</td>\n",
       "      <td>APARTMENT</td>\n",
       "      <td>N</td>\n",
       "      <td>Y</td>\n",
       "      <td>41.937743</td>\n",
       "      <td>-87.723740</td>\n",
       "      <td>Thursday</td>\n",
       "      <td>April</td>\n",
       "      <td>05:30:00</td>\n",
       "      <td>2020</td>\n",
       "    </tr>\n",
       "    <tr>\n",
       "      <th>2</th>\n",
       "      <td>JD215085</td>\n",
       "      <td>2020-04-23 05:33:00</td>\n",
       "      <td>104XX S WABASH AVE</td>\n",
       "      <td>1320</td>\n",
       "      <td>CRIMINAL DAMAGE</td>\n",
       "      <td>TO VEHICLE</td>\n",
       "      <td>STREET</td>\n",
       "      <td>N</td>\n",
       "      <td>N</td>\n",
       "      <td>41.704390</td>\n",
       "      <td>-87.622258</td>\n",
       "      <td>Thursday</td>\n",
       "      <td>April</td>\n",
       "      <td>05:33:00</td>\n",
       "      <td>2020</td>\n",
       "    </tr>\n",
       "    <tr>\n",
       "      <th>3</th>\n",
       "      <td>JD215082</td>\n",
       "      <td>2020-04-23 05:42:00</td>\n",
       "      <td>082XX S SOUTH SHORE DR</td>\n",
       "      <td>0820</td>\n",
       "      <td>THEFT</td>\n",
       "      <td>$500 AND UNDER</td>\n",
       "      <td>APARTMENT</td>\n",
       "      <td>N</td>\n",
       "      <td>Y</td>\n",
       "      <td>41.745957</td>\n",
       "      <td>-87.547932</td>\n",
       "      <td>Thursday</td>\n",
       "      <td>April</td>\n",
       "      <td>05:42:00</td>\n",
       "      <td>2020</td>\n",
       "    </tr>\n",
       "    <tr>\n",
       "      <th>4</th>\n",
       "      <td>JD215137</td>\n",
       "      <td>2020-04-23 05:45:00</td>\n",
       "      <td>004XX W 104TH ST</td>\n",
       "      <td>1020</td>\n",
       "      <td>ARSON</td>\n",
       "      <td>BY FIRE</td>\n",
       "      <td>RESIDENCE</td>\n",
       "      <td>N</td>\n",
       "      <td>N</td>\n",
       "      <td>41.705200</td>\n",
       "      <td>-87.634832</td>\n",
       "      <td>Thursday</td>\n",
       "      <td>April</td>\n",
       "      <td>05:45:00</td>\n",
       "      <td>2020</td>\n",
       "    </tr>\n",
       "  </tbody>\n",
       "</table>\n",
       "</div>"
      ],
      "text/plain": [
       "      case_  date_of_occurrence                   block _iucr  \\\n",
       "0  JD218799 2020-04-23 05:07:00     023XX S STEWART AVE  0810   \n",
       "1  JD215083 2020-04-23 05:30:00       031XX N DAVLIN CT  0486   \n",
       "2  JD215085 2020-04-23 05:33:00      104XX S WABASH AVE  1320   \n",
       "3  JD215082 2020-04-23 05:42:00  082XX S SOUTH SHORE DR  0820   \n",
       "4  JD215137 2020-04-23 05:45:00        004XX W 104TH ST  1020   \n",
       "\n",
       "  _primary_decsription   _secondary_description  \\\n",
       "0                THEFT                OVER $500   \n",
       "1              BATTERY  DOMESTIC BATTERY SIMPLE   \n",
       "2      CRIMINAL DAMAGE               TO VEHICLE   \n",
       "3                THEFT           $500 AND UNDER   \n",
       "4                ARSON                  BY FIRE   \n",
       "\n",
       "                    _location_description arrest domestic   latitude  \\\n",
       "0  PARKING LOT / GARAGE (NON RESIDENTIAL)      N        N  41.850602   \n",
       "1                               APARTMENT      N        Y  41.937743   \n",
       "2                                  STREET      N        N  41.704390   \n",
       "3                               APARTMENT      N        Y  41.745957   \n",
       "4                               RESIDENCE      N        N  41.705200   \n",
       "\n",
       "   longitude  day_name month_name      time  year  \n",
       "0 -87.635898  Thursday      April  05:07:00  2020  \n",
       "1 -87.723740  Thursday      April  05:30:00  2020  \n",
       "2 -87.622258  Thursday      April  05:33:00  2020  \n",
       "3 -87.547932  Thursday      April  05:42:00  2020  \n",
       "4 -87.634832  Thursday      April  05:45:00  2020  "
      ]
     },
     "execution_count": 264,
     "metadata": {},
     "output_type": "execute_result"
    }
   ],
   "source": [
    "df.head()"
   ]
  },
  {
   "cell_type": "code",
   "execution_count": 323,
   "metadata": {},
   "outputs": [
    {
     "name": "stderr",
     "output_type": "stream",
     "text": [
      "c:\\users\\sfw20\\appdata\\local\\programs\\python\\python37-32\\lib\\site-packages\\pandas\\plotting\\_matplotlib\\core.py:1192: UserWarning: FixedFormatter should only be used together with FixedLocator\n",
      "  ax.set_xticklabels(xticklabels)\n"
     ]
    },
    {
     "data": {
      "text/plain": [
       "<BarContainer object of 1 artists>"
      ]
     },
     "execution_count": 323,
     "metadata": {},
     "output_type": "execute_result"
    },
    {
     "data": {
      "image/png": "[encoded data removed]",
      "text/plain": [
       "<Figure size 432x288 with 1 Axes>"
      ]
     },
     "metadata": {
      "needs_background": "light"
     },
     "output_type": "display_data"
    }
   ],
   "source": [
    "# 1 - what months/days have the highest crime rate \n",
    "\n",
    "# pd.crosstab(df._primary_decsription, df.day_name, margins=True, margins_name=\"total\", normalize=True).plot().bar(x =\"Friday\", height = \"total\")"
   ]
  },
  {
   "cell_type": "code",
   "execution_count": null,
   "metadata": {},
   "outputs": [],
   "source": []
  }
 ],
 "metadata": {
  "kernelspec": {
   "display_name": "Python 3",
   "language": "python",
   "name": "python3"
  },
  "language_info": {
   "codemirror_mode": {
    "name": "ipython",
    "version": 3
   },
   "file_extension": ".py",
   "mimetype": "text/x-python",
   "name": "python",
   "nbconvert_exporter": "python",
   "pygments_lexer": "ipython3",
   "version": "3.7.3"
  }
 },
 "nbformat": 4,
 "nbformat_minor": 4
}
